{
 "cells": [
  {
   "cell_type": "code",
   "execution_count": 1,
   "id": "3a404284",
   "metadata": {},
   "outputs": [],
   "source": [
    "from utils import *\n",
    "from collections import Counter"
   ]
  },
  {
   "cell_type": "code",
   "execution_count": 2,
   "id": "57a2b37a",
   "metadata": {},
   "outputs": [],
   "source": [
    "buddyzm = Religion('../buddyzm')\n",
    "islam = Religion('../islam')\n",
    "judaism = Religion('../judaism')"
   ]
  },
  {
   "cell_type": "code",
   "execution_count": 3,
   "id": "03923b31",
   "metadata": {},
   "outputs": [],
   "source": [
    "islam.clear_html_attrs()\n",
    "buddyzm.clear_html_attrs()\n",
    "judaism.clear_html_attrs()"
   ]
  },
  {
   "cell_type": "code",
   "execution_count": 4,
   "id": "afccdef9",
   "metadata": {},
   "outputs": [],
   "source": [
    "big_islam_string=\" \".join([t for t in islam.Posts['clear_body'] if type(t)==str])\n",
    "big_buddyzm_string=\" \".join([t for t in buddyzm.Posts['clear_body'] if type(t)==str])\n",
    "big_judaism_string=\" \".join([t for t in judaism.Posts['clear_body'] if type(t)==str])"
   ]
  },
  {
   "cell_type": "code",
   "execution_count": 5,
   "id": "a41baea1",
   "metadata": {},
   "outputs": [],
   "source": [
    "judaism_words = big_judaism_string.lower().split()\n",
    "islam_words = big_islam_string.lower().split()\n",
    "buddyzm_words = big_buddyzm_string.lower().split()"
   ]
  },
  {
   "cell_type": "code",
   "execution_count": 6,
   "id": "1e03cc4a",
   "metadata": {},
   "outputs": [],
   "source": [
    "judaism_wc= len(judaism_words)\n",
    "judaism_counter = Counter(judaism_words)\n",
    "islam_wc= len(islam_words)\n",
    "islam_counter = Counter(islam_words)\n",
    "buddyzm_wc= len(buddyzm_words)\n",
    "buddyzm_counter = Counter(buddyzm_words)\n"
   ]
  },
  {
   "cell_type": "code",
   "execution_count": 7,
   "id": "50926971",
   "metadata": {},
   "outputs": [],
   "source": [
    "def which_religion(string):\n",
    "    judaism_score = 0\n",
    "    islam_score = 0\n",
    "    buddyzm_score = 0\n",
    "    for word in string.lower().split():\n",
    "        judaism_score+=judaism_counter[word]*100/judaism_wc\n",
    "        islam_score+=islam_counter[word]*100/islam_wc\n",
    "        buddyzm_score+=buddyzm_counter[word]*100/buddyzm_wc\n",
    "    \n",
    "    #return judaism_score, islam_score, buddyzm_score #for debugging\n",
    "    if judaism_score>=islam_score and judaism_score>=buddyzm_score:\n",
    "        return 'judaism'\n",
    "    elif islam_score>=buddyzm_score:\n",
    "        return 'islam'\n",
    "    return 'buddyzm'"
   ]
  },
  {
   "cell_type": "code",
   "execution_count": 8,
   "id": "2b87bde3",
   "metadata": {},
   "outputs": [
    {
     "name": "stdout",
     "output_type": "stream",
     "text": [
      "islam percentage: 17.161726600518232%\n",
      "judaism percentage: 37.973932297016596%\n",
      "buddyzm percentage: 94.88456033356152%\n"
     ]
    }
   ],
   "source": [
    "islam_good=0\n",
    "judaism_good=0\n",
    "buddyzm_good=0\n",
    "\n",
    "for string in islam.Posts['clear_body']:\n",
    "    if which_religion(string)=='islam':\n",
    "        islam_good+=1\n",
    "        \n",
    "for string in judaism.Posts['clear_body']:\n",
    "    if which_religion(string)=='judaism':\n",
    "        judaism_good+=1\n",
    "        \n",
    "for string in buddyzm.Posts['clear_body']:\n",
    "    if which_religion(string)=='buddyzm':\n",
    "        buddyzm_good+=1\n",
    "        \n",
    "print(f'islam percentage: {islam_good/len(islam.Posts)*100}%')\n",
    "print(f'judaism percentage: {judaism_good/len(judaism.Posts)*100}%')\n",
    "print(f'buddyzm percentage: {buddyzm_good/len(buddyzm.Posts)*100}%')\n",
    "        \n",
    "        "
   ]
  },
  {
   "cell_type": "code",
   "execution_count": 9,
   "id": "812cd910",
   "metadata": {},
   "outputs": [
    {
     "data": {
      "text/plain": [
       "['i',\n",
       " 'me',\n",
       " 'my',\n",
       " 'myself',\n",
       " 'we',\n",
       " 'our',\n",
       " 'ours',\n",
       " 'ourselves',\n",
       " 'you',\n",
       " 'your',\n",
       " 'yours',\n",
       " 'yourself',\n",
       " 'yourselves',\n",
       " 'he',\n",
       " 'him',\n",
       " 'his',\n",
       " 'himself',\n",
       " 'she',\n",
       " 'her',\n",
       " 'hers',\n",
       " 'herself',\n",
       " 'it',\n",
       " 'its',\n",
       " 'itself',\n",
       " 'they',\n",
       " 'them',\n",
       " 'their',\n",
       " 'theirs',\n",
       " 'themselves',\n",
       " 'what',\n",
       " 'which',\n",
       " 'who',\n",
       " 'whom',\n",
       " 'this',\n",
       " 'that',\n",
       " 'these',\n",
       " 'those',\n",
       " 'am',\n",
       " 'is',\n",
       " 'are',\n",
       " 'was',\n",
       " 'were',\n",
       " 'be',\n",
       " 'been',\n",
       " 'being',\n",
       " 'have',\n",
       " 'has',\n",
       " 'had',\n",
       " 'having',\n",
       " 'do',\n",
       " 'does',\n",
       " 'did',\n",
       " 'doing',\n",
       " 'a',\n",
       " 'an',\n",
       " 'the',\n",
       " 'and',\n",
       " 'but',\n",
       " 'if',\n",
       " 'or',\n",
       " 'because',\n",
       " 'as',\n",
       " 'until',\n",
       " 'while',\n",
       " 'of',\n",
       " 'at',\n",
       " 'by',\n",
       " 'for',\n",
       " 'with',\n",
       " 'about',\n",
       " 'against',\n",
       " 'between',\n",
       " 'into',\n",
       " 'through',\n",
       " 'during',\n",
       " 'before',\n",
       " 'after',\n",
       " 'above',\n",
       " 'below',\n",
       " 'to',\n",
       " 'from',\n",
       " 'up',\n",
       " 'down',\n",
       " 'in',\n",
       " 'out',\n",
       " 'on',\n",
       " 'off',\n",
       " 'over',\n",
       " 'under',\n",
       " 'again',\n",
       " 'further',\n",
       " 'then',\n",
       " 'once',\n",
       " 'here',\n",
       " 'there',\n",
       " 'when',\n",
       " 'where',\n",
       " 'why',\n",
       " 'how',\n",
       " 'all',\n",
       " 'any',\n",
       " 'both',\n",
       " 'each',\n",
       " 'few',\n",
       " 'more',\n",
       " 'most',\n",
       " 'other',\n",
       " 'some',\n",
       " 'such',\n",
       " 'no',\n",
       " 'nor',\n",
       " 'not',\n",
       " 'only',\n",
       " 'own',\n",
       " 'same',\n",
       " 'so',\n",
       " 'than',\n",
       " 'too',\n",
       " 'very',\n",
       " 's',\n",
       " 't',\n",
       " 'can',\n",
       " 'will',\n",
       " 'just',\n",
       " 'don',\n",
       " 'should',\n",
       " 'no']"
      ]
     },
     "execution_count": 9,
     "metadata": {},
     "output_type": "execute_result"
    }
   ],
   "source": [
    "stopwords = []\n",
    "with open('../stopwords.txt') as file:\n",
    "    for line in file:\n",
    "        stopwords.append(line[:-1])\n",
    "stopwords"
   ]
  },
  {
   "cell_type": "code",
   "execution_count": 10,
   "id": "937c9216",
   "metadata": {},
   "outputs": [],
   "source": [
    "judaism_wc= len([word for word in judaism_words if word not in stopwords])\n",
    "islam_wc= len([word for word in islam_words if word not in stopwords])\n",
    "buddyzm_wc= len([word for word in buddyzm_words if word not in stopwords])"
   ]
  },
  {
   "cell_type": "code",
   "execution_count": 11,
   "id": "6afb2bc7",
   "metadata": {},
   "outputs": [],
   "source": [
    "def which_religion_with_stopwords(string):\n",
    "    judaism_score = 0\n",
    "    islam_score = 0\n",
    "    buddyzm_score = 0\n",
    "    for word in string.lower().split():\n",
    "        if word not in stopwords:\n",
    "            judaism_score+=judaism_counter[word]*100/judaism_wc\n",
    "            islam_score+=islam_counter[word]*100/islam_wc\n",
    "            buddyzm_score+=buddyzm_counter[word]*100/buddyzm_wc\n",
    "    \n",
    "    #return judaism_score, islam_score, buddyzm_score #for debugging\n",
    "    if judaism_score>=islam_score and judaism_score>=buddyzm_score:\n",
    "        return 'judaism'\n",
    "    elif islam_score>=buddyzm_score:\n",
    "        return 'islam'\n",
    "    return 'buddyzm'"
   ]
  },
  {
   "cell_type": "code",
   "execution_count": 12,
   "id": "2825ac95",
   "metadata": {},
   "outputs": [
    {
     "name": "stdout",
     "output_type": "stream",
     "text": [
      "islam percentage: 90.88352398407382%\n",
      "judaism percentage: 66.82987513981146%\n",
      "buddyzm percentage: 97.60408239467297%\n"
     ]
    }
   ],
   "source": [
    "islam_good=0\n",
    "judaism_good=0\n",
    "buddyzm_good=0\n",
    "\n",
    "for string in islam.Posts['clear_body']:\n",
    "    if which_religion_with_stopwords(string)=='islam':\n",
    "        islam_good+=1\n",
    "        \n",
    "for string in judaism.Posts['clear_body']:\n",
    "    if which_religion_with_stopwords(string)=='judaism':\n",
    "        judaism_good+=1\n",
    "        \n",
    "for string in buddyzm.Posts['clear_body']:\n",
    "    if which_religion_with_stopwords(string)=='buddyzm':\n",
    "        buddyzm_good+=1\n",
    "        \n",
    "print(f'islam percentage: {islam_good/len(islam.Posts)*100}%')\n",
    "print(f'judaism percentage: {judaism_good/len(judaism.Posts)*100}%')\n",
    "print(f'buddyzm percentage: {buddyzm_good/len(buddyzm.Posts)*100}%')\n",
    "        \n",
    "        "
   ]
  },
  {
   "cell_type": "code",
   "execution_count": 19,
   "id": "6879bf74",
   "metadata": {},
   "outputs": [],
   "source": [
    "def another_which_religion_with_stopwords(string):\n",
    "    judaism_score = 0\n",
    "    islam_score = 0\n",
    "    buddyzm_score = 0\n",
    "    for word in string.lower().split():\n",
    "        if word not in stopwords:\n",
    "            j, i, b = judaism_counter[word]*100/judaism_wc,\\\n",
    "            islam_counter[word]*100/islam_wc, \\\n",
    "            buddyzm_counter[word]*100/buddyzm_wc \n",
    "            if j>i+b:\n",
    "                judaism_score+=1\n",
    "            elif i>j+b:\n",
    "                islam_score+=1\n",
    "            elif b>j+i:\n",
    "                buddyzm_score+=1\n",
    "    \n",
    "    #return judaism_score, islam_score, buddyzm_score #for debugging\n",
    "    if judaism_score>=islam_score and judaism_score>=buddyzm_score:\n",
    "        return 'judaism'\n",
    "    elif islam_score>=buddyzm_score:\n",
    "        return 'islam'\n",
    "    return 'buddyzm'"
   ]
  },
  {
   "cell_type": "code",
   "execution_count": 20,
   "id": "25561baa",
   "metadata": {},
   "outputs": [
    {
     "name": "stdout",
     "output_type": "stream",
     "text": [
      "islam percentage: 93.27561145168426%\n",
      "judaism percentage: 94.70656714373759%\n",
      "buddyzm percentage: 98.5500031115813%\n"
     ]
    }
   ],
   "source": [
    "islam_good=0\n",
    "judaism_good=0\n",
    "buddyzm_good=0\n",
    "\n",
    "for string in islam.Posts['clear_body']:\n",
    "    if another_which_religion_with_stopwords(string)=='islam':\n",
    "        islam_good+=1\n",
    "        \n",
    "for string in judaism.Posts['clear_body']:\n",
    "    if another_which_religion_with_stopwords(string)=='judaism':\n",
    "        judaism_good+=1\n",
    "        \n",
    "for string in buddyzm.Posts['clear_body']:\n",
    "    if another_which_religion_with_stopwords(string)=='buddyzm':\n",
    "        buddyzm_good+=1\n",
    "        \n",
    "print(f'islam percentage: {islam_good/len(islam.Posts)*100}%')\n",
    "print(f'judaism percentage: {judaism_good/len(judaism.Posts)*100}%')\n",
    "print(f'buddyzm percentage: {buddyzm_good/len(buddyzm.Posts)*100}%')\n",
    "        \n",
    "        "
   ]
  },
  {
   "cell_type": "code",
   "execution_count": null,
   "id": "19c955f3",
   "metadata": {},
   "outputs": [],
   "source": []
  }
 ],
 "metadata": {
  "kernelspec": {
   "display_name": "Python 3",
   "language": "python",
   "name": "python3"
  },
  "language_info": {
   "codemirror_mode": {
    "name": "ipython",
    "version": 3
   },
   "file_extension": ".py",
   "mimetype": "text/x-python",
   "name": "python",
   "nbconvert_exporter": "python",
   "pygments_lexer": "ipython3",
   "version": "3.9.2"
  }
 },
 "nbformat": 4,
 "nbformat_minor": 5
}

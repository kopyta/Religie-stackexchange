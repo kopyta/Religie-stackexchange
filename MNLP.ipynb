{
 "cells": [
  {
   "cell_type": "markdown",
   "id": "03f34316",
   "metadata": {},
   "source": [
    "# Notebook zawierający autorski algorytm, który służy do rozpoznawania religii której dotyczy tekst.\n",
    "\n",
    "Celem jest stworzenie algorytmu który w miarę szybko będzie w stanie rozpoznać z dostateczną dokładnością religię której dotyczy dany post tylko i wyłącznie na podstawie treści tego posta. Na koniec również przetestujemy algorytm (\"uczony\" na  postach) na komentarzach w celu sprawdzenia jak dobrze radzi sobie z tekstami które są krótsze i często nie zawierają tyle słów charakterystycznych co Posty"
   ]
  },
  {
   "cell_type": "markdown",
   "id": "0add32d0",
   "metadata": {},
   "source": [
    "Najpierw importujemy wszystkie funkcje i klasę religion z modułu utils, które sami napisaliśmy (dokładniejszy opis działania można znaleźć w docstringach w utils.py) oraz Counter który przyda nam się później"
   ]
  },
  {
   "cell_type": "code",
   "execution_count": 1,
   "id": "3a404284",
   "metadata": {},
   "outputs": [],
   "source": [
    "from utils import *\n",
    "from collections import Counter"
   ]
  },
  {
   "cell_type": "markdown",
   "id": "6fae3c96",
   "metadata": {},
   "source": [
    "Z pomocą konstruktora klasy Religion pobieramy wszystkie dane z plików. W argumentach konstruktorów należy podać ścieżki do folderów w których są poszczególne źródłowe pliki .xml. w moim przypadku w jednym folderze znajduje się repozytorium, oraz 3 katalogi z poszczególnymi plikami. Następnie używamy metody clear_html_attrs która tworzy nam nowe kolumny w dataframe'ach Raligion.Posts i Religion.Comments z 'oczyszczoną' treścią komentarzy i postów (bez znaczników html oraz znaków interpunkcyjnych)"
   ]
  },
  {
   "cell_type": "code",
   "execution_count": 2,
   "id": "57a2b37a",
   "metadata": {},
   "outputs": [],
   "source": [
    "buddyzm = Religion('../buddyzm')\n",
    "islam = Religion('../islam')\n",
    "judaism = Religion('../judaism')"
   ]
  },
  {
   "cell_type": "code",
   "execution_count": 3,
   "id": "03923b31",
   "metadata": {},
   "outputs": [],
   "source": [
    "islam.clear_html_attrs()\n",
    "buddyzm.clear_html_attrs()\n",
    "judaism.clear_html_attrs()"
   ]
  },
  {
   "cell_type": "markdown",
   "id": "e9e33af6",
   "metadata": {},
   "source": [
    "Teraz Łączymy treści postów z danej religii do jednego długiego stringa z którego będziemy następnie wybierać słowa kluczowe."
   ]
  },
  {
   "cell_type": "code",
   "execution_count": 4,
   "id": "afccdef9",
   "metadata": {},
   "outputs": [],
   "source": [
    "big_islam_string=\" \".join([t for t in islam.Posts['clear_body'] if type(t)==str])\n",
    "big_buddyzm_string=\" \".join([t for t in buddyzm.Posts['clear_body'] if type(t)==str])\n",
    "big_judaism_string=\" \".join([t for t in judaism.Posts['clear_body'] if type(t)==str])"
   ]
  },
  {
   "cell_type": "markdown",
   "id": "d26a91fa",
   "metadata": {},
   "source": [
    "Próbowaliśmy w tym miejscu skorzystać z jednej z gotowych implementacji algorytmu Rake oraz tf-idf, jednak okazało się, że obydwa algorytmy działają dobrze tylko przy jednym alfabecie. Gdy natykały się na frazę w alfabecie innym niż łaciński (np cytat z koranu lub tora), brały całą jako jedno wyrażenie i nie potrafiliśmy sobie z tym poradzić. Uznaliśmy że na potrzeby tego projektu napiszemy własny (prawdopodobnie nie najlepszy) kod generujący słowa kluczowe z tekstu używając Countera"
   ]
  },
  {
   "cell_type": "code",
   "execution_count": 5,
   "id": "a41baea1",
   "metadata": {},
   "outputs": [],
   "source": [
    "judaism_words = big_judaism_string.lower().split()\n",
    "islam_words = big_islam_string.lower().split()\n",
    "buddyzm_words = big_buddyzm_string.lower().split()"
   ]
  },
  {
   "cell_type": "code",
   "execution_count": 6,
   "id": "1e03cc4a",
   "metadata": {},
   "outputs": [],
   "source": [
    "judaism_wc= len(judaism_words)\n",
    "judaism_counter = Counter(judaism_words)\n",
    "islam_wc= len(islam_words)\n",
    "islam_counter = Counter(islam_words)\n",
    "buddyzm_wc= len(buddyzm_words)\n",
    "buddyzm_counter = Counter(buddyzm_words)\n"
   ]
  },
  {
   "cell_type": "markdown",
   "id": "21e55da2",
   "metadata": {},
   "source": [
    "W tym momencie zabraliśmy się za pisanie algorytmu który w jakiś sposób oceniał który string gdzie pasuje biorąc pod uwagę słowa kluczowe. Pierwsza wersja polegała na tym, że iterując po wszystkich słowach w poście dla każdej religii osobno dodajemy ich częstość a następnie zwracamy religię dla której suma ta jest największa"
   ]
  },
  {
   "cell_type": "code",
   "execution_count": 7,
   "id": "8b3dfe97",
   "metadata": {},
   "outputs": [],
   "source": [
    "def which_religion(string):\n",
    "    judaism_score = 0\n",
    "    islam_score = 0\n",
    "    buddyzm_score = 0\n",
    "    for word in string.lower().split():\n",
    "        judaism_score+=judaism_counter[word]*100/judaism_wc\n",
    "        islam_score+=islam_counter[word]*100/islam_wc\n",
    "        buddyzm_score+=buddyzm_counter[word]*100/buddyzm_wc\n",
    "    \n",
    "    #return judaism_score, islam_score, buddyzm_score #for debugging\n",
    "    if judaism_score>=islam_score and judaism_score>=buddyzm_score:\n",
    "        return 'judaism'\n",
    "    elif islam_score>=buddyzm_score:\n",
    "        return 'islam'\n",
    "    return 'buddyzm'"
   ]
  },
  {
   "cell_type": "markdown",
   "id": "3cc42884",
   "metadata": {},
   "source": [
    "Jak widać poniżej, skuteczność naszego algorytmu pozostawiała wiele do życzenia. Po analizie postów i częstości odpowiednich słów w poszczególnych religiach doszliśmy do wniosku, że największy wpływ mają słowa najczęstsze w angielskim a nie najbardziej charakterystyczne dla danej religii. W związku z tym otrzymaliśmy algorytm który dla większości angielskich tekstów zwracał 'buddyzm'."
   ]
  },
  {
   "cell_type": "code",
   "execution_count": 8,
   "id": "2b87bde3",
   "metadata": {},
   "outputs": [
    {
     "name": "stdout",
     "output_type": "stream",
     "text": [
      "islam percentage: 17.161726600518232%\n",
      "judaism percentage: 37.973932297016596%\n",
      "buddyzm percentage: 94.88456033356152%\n"
     ]
    }
   ],
   "source": [
    "islam_good=0\n",
    "judaism_good=0\n",
    "buddyzm_good=0\n",
    "\n",
    "for string in islam.Posts['clear_body']:\n",
    "    if which_religion(string)=='islam':\n",
    "        islam_good+=1\n",
    "        \n",
    "for string in judaism.Posts['clear_body']:\n",
    "    if which_religion(string)=='judaism':\n",
    "        judaism_good+=1\n",
    "        \n",
    "for string in buddyzm.Posts['clear_body']:\n",
    "    if which_religion(string)=='buddyzm':\n",
    "        buddyzm_good+=1\n",
    "        \n",
    "print(f'islam percentage: {islam_good/len(islam.Posts)*100}%')\n",
    "print(f'judaism percentage: {judaism_good/len(judaism.Posts)*100}%')\n",
    "print(f'buddyzm percentage: {buddyzm_good/len(buddyzm.Posts)*100}%')\n",
    "        \n",
    "        "
   ]
  },
  {
   "cell_type": "markdown",
   "id": "708b34f2",
   "metadata": {},
   "source": [
    "Naszym pierwszym pomysłem na rozwiązanie tego problemu było nie uwzględnianie naczęstszych słów w języku angielskim. Wzieliśmy je z pliku znalezionego w internecie, jednak można go tu łatwo podmienić, lub dodać do niego więcej słów"
   ]
  },
  {
   "cell_type": "code",
   "execution_count": 9,
   "id": "812cd910",
   "metadata": {},
   "outputs": [
    {
     "data": {
      "text/plain": [
       "['i',\n",
       " 'me',\n",
       " 'my',\n",
       " 'myself',\n",
       " 'we',\n",
       " 'our',\n",
       " 'ours',\n",
       " 'ourselves',\n",
       " 'you',\n",
       " 'your',\n",
       " 'yours',\n",
       " 'yourself',\n",
       " 'yourselves',\n",
       " 'he',\n",
       " 'him',\n",
       " 'his',\n",
       " 'himself',\n",
       " 'she',\n",
       " 'her',\n",
       " 'hers',\n",
       " 'herself',\n",
       " 'it',\n",
       " 'its',\n",
       " 'itself',\n",
       " 'they',\n",
       " 'them',\n",
       " 'their',\n",
       " 'theirs',\n",
       " 'themselves',\n",
       " 'what',\n",
       " 'which',\n",
       " 'who',\n",
       " 'whom',\n",
       " 'this',\n",
       " 'that',\n",
       " 'these',\n",
       " 'those',\n",
       " 'am',\n",
       " 'is',\n",
       " 'are',\n",
       " 'was',\n",
       " 'were',\n",
       " 'be',\n",
       " 'been',\n",
       " 'being',\n",
       " 'have',\n",
       " 'has',\n",
       " 'had',\n",
       " 'having',\n",
       " 'do',\n",
       " 'does',\n",
       " 'did',\n",
       " 'doing',\n",
       " 'a',\n",
       " 'an',\n",
       " 'the',\n",
       " 'and',\n",
       " 'but',\n",
       " 'if',\n",
       " 'or',\n",
       " 'because',\n",
       " 'as',\n",
       " 'until',\n",
       " 'while',\n",
       " 'of',\n",
       " 'at',\n",
       " 'by',\n",
       " 'for',\n",
       " 'with',\n",
       " 'about',\n",
       " 'against',\n",
       " 'between',\n",
       " 'into',\n",
       " 'through',\n",
       " 'during',\n",
       " 'before',\n",
       " 'after',\n",
       " 'above',\n",
       " 'below',\n",
       " 'to',\n",
       " 'from',\n",
       " 'up',\n",
       " 'down',\n",
       " 'in',\n",
       " 'out',\n",
       " 'on',\n",
       " 'off',\n",
       " 'over',\n",
       " 'under',\n",
       " 'again',\n",
       " 'further',\n",
       " 'then',\n",
       " 'once',\n",
       " 'here',\n",
       " 'there',\n",
       " 'when',\n",
       " 'where',\n",
       " 'why',\n",
       " 'how',\n",
       " 'all',\n",
       " 'any',\n",
       " 'both',\n",
       " 'each',\n",
       " 'few',\n",
       " 'more',\n",
       " 'most',\n",
       " 'other',\n",
       " 'some',\n",
       " 'such',\n",
       " 'no',\n",
       " 'nor',\n",
       " 'not',\n",
       " 'only',\n",
       " 'own',\n",
       " 'same',\n",
       " 'so',\n",
       " 'than',\n",
       " 'too',\n",
       " 'very',\n",
       " 's',\n",
       " 't',\n",
       " 'can',\n",
       " 'will',\n",
       " 'just',\n",
       " 'don',\n",
       " 'should',\n",
       " 'no']"
      ]
     },
     "execution_count": 9,
     "metadata": {},
     "output_type": "execute_result"
    }
   ],
   "source": [
    "stopwords = []\n",
    "with open('../stopwords.txt') as file: #https://gist.github.com/sebleier/554280\n",
    "    for line in file:\n",
    "        stopwords.append(line[:-1])\n",
    "stopwords"
   ]
  },
  {
   "cell_type": "markdown",
   "id": "adc2bc1a",
   "metadata": {},
   "source": [
    "Należało teraz zmniejszyć obliczaną wcześniej ilość słów w długich stringach tak, aby nie uwzględniała słów z pliku wyżej"
   ]
  },
  {
   "cell_type": "code",
   "execution_count": 10,
   "id": "937c9216",
   "metadata": {},
   "outputs": [],
   "source": [
    "judaism_wc= len([word for word in judaism_words if word not in stopwords])\n",
    "islam_wc= len([word for word in islam_words if word not in stopwords])\n",
    "buddyzm_wc= len([word for word in buddyzm_words if word not in stopwords])"
   ]
  },
  {
   "cell_type": "markdown",
   "id": "57ab4dfd",
   "metadata": {},
   "source": [
    "Skopiowaliśmy naszą funkcję z nową nazwą i dodatkową linijką kodu"
   ]
  },
  {
   "cell_type": "code",
   "execution_count": 11,
   "id": "6afb2bc7",
   "metadata": {},
   "outputs": [],
   "source": [
    "def which_religion_with_stopwords(string):\n",
    "    judaism_score = 0\n",
    "    islam_score = 0\n",
    "    buddyzm_score = 0\n",
    "    for word in string.lower().split():\n",
    "        if word not in stopwords: #Jedyna zmiana względem poprzedniego algorytmu\n",
    "            judaism_score+=judaism_counter[word]*100/judaism_wc\n",
    "            islam_score+=islam_counter[word]*100/islam_wc\n",
    "            buddyzm_score+=buddyzm_counter[word]*100/buddyzm_wc\n",
    "    \n",
    "    #return judaism_score, islam_score, buddyzm_score #for debugging\n",
    "    if judaism_score>=islam_score and judaism_score>=buddyzm_score:\n",
    "        return 'judaism'\n",
    "    elif islam_score>=buddyzm_score:\n",
    "        return 'islam'\n",
    "    return 'buddyzm'"
   ]
  },
  {
   "cell_type": "markdown",
   "id": "deb3fabf",
   "metadata": {},
   "source": [
    "Jak widać wyniki są zdecydowanie lepsze niż pierwsza wersja algorytmu, jednak dalej widać rażące różnice między religiami"
   ]
  },
  {
   "cell_type": "code",
   "execution_count": 12,
   "id": "2825ac95",
   "metadata": {},
   "outputs": [
    {
     "name": "stdout",
     "output_type": "stream",
     "text": [
      "islam percentage: 90.88352398407382%\n",
      "judaism percentage: 66.82987513981146%\n",
      "buddyzm percentage: 97.60408239467297%\n"
     ]
    }
   ],
   "source": [
    "islam_good=0\n",
    "judaism_good=0\n",
    "buddyzm_good=0\n",
    "\n",
    "for string in islam.Posts['clear_body']:\n",
    "    if which_religion_with_stopwords(string)=='islam':\n",
    "        islam_good+=1\n",
    "        \n",
    "for string in judaism.Posts['clear_body']:\n",
    "    if which_religion_with_stopwords(string)=='judaism':\n",
    "        judaism_good+=1\n",
    "        \n",
    "for string in buddyzm.Posts['clear_body']:\n",
    "    if which_religion_with_stopwords(string)=='buddyzm':\n",
    "        buddyzm_good+=1\n",
    "        \n",
    "print(f'islam percentage: {islam_good/len(islam.Posts)*100}%')\n",
    "print(f'judaism percentage: {judaism_good/len(judaism.Posts)*100}%')\n",
    "print(f'buddyzm percentage: {buddyzm_good/len(buddyzm.Posts)*100}%')\n",
    "        \n",
    "        "
   ]
  },
  {
   "cell_type": "markdown",
   "id": "1b5e1705",
   "metadata": {},
   "source": [
    "Stworzyliśmy więc kolejną wersję algorytmu, również uwzględniającą stopwords, jednak zmieniliśmy również podstawową zasadę działania. Teraz algorytm przyznaje punkt danej religii jeżeli jakieś słowo pojawia się co najmniej 2 razy częściej w postach danej religii niż średnio w postach pozostałych religii. współczynnik 2 jest arbitralny i potem jeszcze spróbujemy go zoptymalizować"
   ]
  },
  {
   "cell_type": "code",
   "execution_count": 13,
   "id": "6879bf74",
   "metadata": {},
   "outputs": [],
   "source": [
    "def another_which_religion_with_stopwords(string, wsp = 2):\n",
    "    judaism_score = 0\n",
    "    islam_score = 0\n",
    "    buddyzm_score = 0\n",
    "    for word in string.lower().split():\n",
    "        if word not in stopwords:\n",
    "            j, i, b = judaism_counter[word]*100/judaism_wc,\\\n",
    "            islam_counter[word]*100/islam_wc, \\\n",
    "            buddyzm_counter[word]*100/buddyzm_wc \n",
    "            if j>(i+b)*(wsp/2):\n",
    "                judaism_score+=1\n",
    "            elif i>(j+b)*(wsp/2):\n",
    "                islam_score+=1\n",
    "            elif b>(j+i)*(wsp/2):\n",
    "                buddyzm_score+=1\n",
    "    \n",
    "    #return judaism_score, islam_score, buddyzm_score #for debugging\n",
    "    if judaism_score>=islam_score and judaism_score>=buddyzm_score:\n",
    "        return 'judaism'\n",
    "    elif islam_score>=buddyzm_score:\n",
    "        return 'islam'\n",
    "    return 'buddyzm'"
   ]
  },
  {
   "cell_type": "code",
   "execution_count": 14,
   "id": "25561baa",
   "metadata": {},
   "outputs": [
    {
     "name": "stdout",
     "output_type": "stream",
     "text": [
      "islam percentage: 93.27561145168426%\n",
      "judaism percentage: 94.70656714373759%\n",
      "buddyzm percentage: 98.5500031115813%\n"
     ]
    }
   ],
   "source": [
    "islam_good=0\n",
    "judaism_good=0\n",
    "buddyzm_good=0\n",
    "\n",
    "for string in islam.Posts['clear_body']:\n",
    "    if another_which_religion_with_stopwords(string)=='islam':\n",
    "        islam_good+=1\n",
    "        \n",
    "for string in judaism.Posts['clear_body']:\n",
    "    if another_which_religion_with_stopwords(string)=='judaism':\n",
    "        judaism_good+=1\n",
    "        \n",
    "for string in buddyzm.Posts['clear_body']:\n",
    "    if another_which_religion_with_stopwords(string)=='buddyzm':\n",
    "        buddyzm_good+=1\n",
    "        \n",
    "print(f'islam percentage: {islam_good/len(islam.Posts)*100}%')\n",
    "print(f'judaism percentage: {judaism_good/len(judaism.Posts)*100}%')\n",
    "print(f'buddyzm percentage: {buddyzm_good/len(buddyzm.Posts)*100}%')\n",
    "        \n",
    "        "
   ]
  },
  {
   "cell_type": "markdown",
   "id": "600c7b23",
   "metadata": {},
   "source": [
    "Jak widać wyniki są już wystarczające żeby powiedzieć, że algorytm działa. Jak widać poniżej, radzi sobie w miarę dobrze również z komentarzami"
   ]
  },
  {
   "cell_type": "code",
   "execution_count": 15,
   "id": "9b1f32b5",
   "metadata": {},
   "outputs": [
    {
     "name": "stdout",
     "output_type": "stream",
     "text": [
      "islam percentage: 70.3065917220235%\n",
      "judaism percentage: 83.19560361813015%\n",
      "buddyzm percentage: 82.59315206445116%\n"
     ]
    }
   ],
   "source": [
    "islam_good=0\n",
    "judaism_good=0\n",
    "buddyzm_good=0\n",
    "\n",
    "for string in islam.Comments['clear_text']:\n",
    "    if another_which_religion_with_stopwords(string)=='islam':\n",
    "        islam_good+=1\n",
    "        \n",
    "for string in judaism.Comments['clear_text']:\n",
    "    if another_which_religion_with_stopwords(string)=='judaism':\n",
    "        judaism_good+=1\n",
    "        \n",
    "for string in buddyzm.Comments['clear_text']:\n",
    "    if another_which_religion_with_stopwords(string)=='buddyzm':\n",
    "        buddyzm_good+=1\n",
    "        \n",
    "print(f'islam percentage: {islam_good/len(islam.Comments)*100}%')\n",
    "print(f'judaism percentage: {judaism_good/len(judaism.Comments)*100}%')\n",
    "print(f'buddyzm percentage: {buddyzm_good/len(buddyzm.Comments)*100}%')"
   ]
  },
  {
   "cell_type": "markdown",
   "id": "697a06ab",
   "metadata": {},
   "source": [
    "Teraz Postaramy się znaleźć najlepszy współczynnik do naszego algorytmu. Sprawdzimy wszystkie liczby z dokładnością do 0.1 od 0.1 do 10. **Bardzo proszę o piątkę za projekt, mój komputer naprawdę nie jest szczęśliwy że musiał to liczyć**"
   ]
  },
  {
   "cell_type": "code",
   "execution_count": 16,
   "id": "4f5fe5c7",
   "metadata": {},
   "outputs": [
    {
     "name": "stdout",
     "output_type": "stream",
     "text": [
      "najlepszy współczynnik to 6.8\n",
      "osiągnął średnią skuteczność 97.96423538534124% w ocenianu postów\n"
     ]
    }
   ],
   "source": [
    "best=0\n",
    "for wsp in range(1,100):\n",
    "    islam_good=0\n",
    "    judaism_good=0\n",
    "    buddyzm_good=0\n",
    "\n",
    "    for string in islam.Posts['clear_body']:\n",
    "        if another_which_religion_with_stopwords(string, wsp/10)=='islam':\n",
    "            islam_good+=1\n",
    "        \n",
    "    for string in judaism.Posts['clear_body']:\n",
    "        if another_which_religion_with_stopwords(string, wsp/10)=='judaism':\n",
    "            judaism_good+=1\n",
    "        \n",
    "    for string in buddyzm.Posts['clear_body']:\n",
    "        if another_which_religion_with_stopwords(string, wsp/10)=='buddyzm':\n",
    "            buddyzm_good+=1\n",
    "    k= islam_good/len(islam.Posts)+judaism_good/len(judaism.Posts)+buddyzm_good/len(buddyzm.Posts)\n",
    "    if k>best:\n",
    "        best=k\n",
    "        best_wsp = wsp/10\n",
    "print(f'najlepszy współczynnik to {best_wsp}')\n",
    "print(f'osiągnął średnią skuteczność {best*100/3}% w ocenianu postów')"
   ]
  },
  {
   "cell_type": "code",
   "execution_count": 17,
   "id": "19c955f3",
   "metadata": {},
   "outputs": [
    {
     "name": "stdout",
     "output_type": "stream",
     "text": [
      "islam percentage: 67.71333673990803%\n",
      "judaism percentage: 96.80266876174885%\n",
      "buddyzm percentage: 76.42749244712991%\n"
     ]
    }
   ],
   "source": [
    "islam_good=0\n",
    "judaism_good=0\n",
    "buddyzm_good=0\n",
    "\n",
    "for string in islam.Comments['clear_text']:\n",
    "    if another_which_religion_with_stopwords(string, best_wsp)=='islam':\n",
    "        islam_good+=1\n",
    "        \n",
    "for string in judaism.Comments['clear_text']:\n",
    "    if another_which_religion_with_stopwords(string, best_wsp)=='judaism':\n",
    "        judaism_good+=1\n",
    "        \n",
    "for string in buddyzm.Comments['clear_text']:\n",
    "    if another_which_religion_with_stopwords(string, best_wsp)=='buddyzm':\n",
    "        buddyzm_good+=1\n",
    "        \n",
    "print(f'islam percentage: {islam_good/len(islam.Comments)*100}%')\n",
    "print(f'judaism percentage: {judaism_good/len(judaism.Comments)*100}%')\n",
    "print(f'buddyzm percentage: {buddyzm_good/len(buddyzm.Comments)*100}%')"
   ]
  },
  {
   "cell_type": "code",
   "execution_count": 18,
   "id": "08aa4eec",
   "metadata": {},
   "outputs": [
    {
     "name": "stdout",
     "output_type": "stream",
     "text": [
      "islam percentage: 96.07849333249068%\n",
      "judaism percentage: 99.10863064667078%\n",
      "buddyzm percentage: 98.70558217686228%\n"
     ]
    }
   ],
   "source": [
    "islam_good=0\n",
    "judaism_good=0\n",
    "buddyzm_good=0\n",
    "\n",
    "for string in islam.Posts['clear_body']:\n",
    "    if another_which_religion_with_stopwords(string, 6.8)=='islam':\n",
    "        islam_good+=1\n",
    "        \n",
    "for string in judaism.Posts['clear_body']:\n",
    "    if another_which_religion_with_stopwords(string, 6.8)=='judaism':\n",
    "        judaism_good+=1\n",
    "        \n",
    "for string in buddyzm.Posts['clear_body']:\n",
    "    if another_which_religion_with_stopwords(string, 6.8)=='buddyzm':\n",
    "        buddyzm_good+=1\n",
    "        \n",
    "print(f'islam percentage: {islam_good/len(islam.Posts)*100}%')\n",
    "print(f'judaism percentage: {judaism_good/len(judaism.Posts)*100}%')\n",
    "print(f'buddyzm percentage: {buddyzm_good/len(buddyzm.Posts)*100}%')\n",
    "        "
   ]
  },
  {
   "cell_type": "code",
   "execution_count": 24,
   "id": "f5063278",
   "metadata": {},
   "outputs": [
    {
     "name": "stdout",
     "output_type": "stream",
     "text": [
      "najlepszy współczynnik to 4.2\n",
      "osiągnął średnią skuteczność 78.73333333333333% w ocenianu komentarzy\n"
     ]
    }
   ],
   "source": [
    "best=0\n",
    "for wsp in range(11,101):\n",
    "    islam_good=0\n",
    "    judaism_good=0\n",
    "    buddyzm_good=0\n",
    "\n",
    "    for string in islam.Comments['clear_text'][:3000]:\n",
    "        if another_which_religion_with_stopwords(string, wsp/10)=='islam':\n",
    "            islam_good+=1\n",
    "        \n",
    "    for string in judaism.Comments['clear_text'][:3000]:\n",
    "        if another_which_religion_with_stopwords(string, wsp/10)=='judaism':\n",
    "            judaism_good+=1\n",
    "        \n",
    "    for string in buddyzm.Comments['clear_text'][:3000]:\n",
    "        if another_which_religion_with_stopwords(string, wsp/10)=='buddyzm':\n",
    "            buddyzm_good+=1\n",
    "    k= (islam_good+judaism_good+buddyzm_good)/3000\n",
    "    if k>best:\n",
    "        best=k\n",
    "        best_wsp = wsp/10\n",
    "print(f'najlepszy współczynnik to {best_wsp}')\n",
    "print(f'osiągnął średnią skuteczność {best*100/3}% w ocenianu komentarzy')"
   ]
  },
  {
   "cell_type": "code",
   "execution_count": 25,
   "id": "6eb18d2a",
   "metadata": {},
   "outputs": [
    {
     "name": "stdout",
     "output_type": "stream",
     "text": [
      "islam percentage: 96.28389053908867%\n",
      "judaism percentage: 98.25378346915018%\n",
      "buddyzm percentage: 98.68380110772294%\n"
     ]
    }
   ],
   "source": [
    "islam_good=0\n",
    "judaism_good=0\n",
    "buddyzm_good=0\n",
    "\n",
    "for string in islam.Posts['clear_body']:\n",
    "    if another_which_religion_with_stopwords(string, 4.2)=='islam':\n",
    "        islam_good+=1\n",
    "        \n",
    "for string in judaism.Posts['clear_body']:\n",
    "    if another_which_religion_with_stopwords(string, 4.2)=='judaism':\n",
    "        judaism_good+=1\n",
    "        \n",
    "for string in buddyzm.Posts['clear_body']:\n",
    "    if another_which_religion_with_stopwords(string, 4.2)=='buddyzm':\n",
    "        buddyzm_good+=1\n",
    "        \n",
    "print(f'islam percentage: {islam_good/len(islam.Posts)*100}%')\n",
    "print(f'judaism percentage: {judaism_good/len(judaism.Posts)*100}%')\n",
    "print(f'buddyzm percentage: {buddyzm_good/len(buddyzm.Posts)*100}%')\n",
    "        \n",
    "        "
   ]
  },
  {
   "cell_type": "code",
   "execution_count": 26,
   "id": "abc5cc69",
   "metadata": {},
   "outputs": [
    {
     "name": "stdout",
     "output_type": "stream",
     "text": [
      "islam percentage: 70.4982115482882%\n",
      "judaism percentage: 94.01503029505284%\n",
      "buddyzm percentage: 78.567472306143%\n"
     ]
    }
   ],
   "source": [
    "islam_good=0\n",
    "judaism_good=0\n",
    "buddyzm_good=0\n",
    "\n",
    "for string in islam.Comments['clear_text']:\n",
    "    if another_which_religion_with_stopwords(string, 4.2)=='islam':\n",
    "        islam_good+=1\n",
    "        \n",
    "for string in judaism.Comments['clear_text']:\n",
    "    if another_which_religion_with_stopwords(string, 4.2)=='judaism':\n",
    "        judaism_good+=1\n",
    "        \n",
    "for string in buddyzm.Comments['clear_text']:\n",
    "    if another_which_religion_with_stopwords(string, 4.2)=='buddyzm':\n",
    "        buddyzm_good+=1\n",
    "        \n",
    "print(f'islam percentage: {islam_good/len(islam.Comments)*100}%')\n",
    "print(f'judaism percentage: {judaism_good/len(judaism.Comments)*100}%')\n",
    "print(f'buddyzm percentage: {buddyzm_good/len(buddyzm.Comments)*100}%')"
   ]
  },
  {
   "cell_type": "code",
   "execution_count": null,
   "id": "54c2d66e",
   "metadata": {},
   "outputs": [],
   "source": []
  }
 ],
 "metadata": {
  "kernelspec": {
   "display_name": "Python 3",
   "language": "python",
   "name": "python3"
  },
  "language_info": {
   "codemirror_mode": {
    "name": "ipython",
    "version": 3
   },
   "file_extension": ".py",
   "mimetype": "text/x-python",
   "name": "python",
   "nbconvert_exporter": "python",
   "pygments_lexer": "ipython3",
   "version": "3.9.2"
  }
 },
 "nbformat": 4,
 "nbformat_minor": 5
}

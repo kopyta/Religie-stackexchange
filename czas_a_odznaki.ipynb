{
 "cells": [
  {
   "cell_type": "code",
   "execution_count": 1,
   "metadata": {},
   "outputs": [],
   "source": [
    "from utils import *\n",
    "import numpy as np\n",
    "import pandas as pd\n",
    "\n",
    "pd.set_option(\"display.notebook_repr_html\", False) "
   ]
  },
  {
   "cell_type": "code",
   "execution_count": 2,
   "metadata": {},
   "outputs": [],
   "source": [
    "buddyzm = Religion('../buddyzm')\n",
    "islam = Religion('../islam')\n",
    "judaism = Religion('../judaism')"
   ]
  },
  {
   "cell_type": "markdown",
   "metadata": {},
   "source": [
    "W tym punkcie naszym celem było zbadanie zależności między czasem tworzenia posta lub dodania odpowiedzi, religią, a odznakami użytkownika. W tym celu potrzebowaliśmy wyodrębnić ramkę danych stworzoną z UserId i wszystkimi odznakami danego użytkownika.\n",
    "Zajmuje się tym funkcja `participation_badges`."
   ]
  },
  {
   "cell_type": "code",
   "execution_count": 9,
   "metadata": {},
   "outputs": [],
   "source": [
    "    def participation_badges(religia):\n",
    "        \"\"\"funkcja, która tworzy ramkę danych ParticipationBadges, zawierająca kolumnę UserId i kolumnę UserBadges,\n",
    "        której wiersze to stringi ParticipationBadges danego użytkownika (przyznawanych tylko raz).\n",
    "        ParticipationBadges są określone na podstawie\n",
    "            https://meta.stackexchange.com/questions/67397/what-are-the-badges-i-can-earn-on-each-site-and-what-are-the-exact-criteriafor#188731\"\"\"\n",
    "\n",
    "        UserBadges = ['Autobiographer', 'Commentator', 'Pundit', 'Enthusiast', 'Fanatic', 'Mortarboard', 'Epic',\n",
    "                      'Legendary', 'Precognitive', 'Beta', 'Quorum', 'Convention', 'Talkative', 'Outspoken']\n",
    "        ParticipationBadges = religia.Badges[['UserId','Name']].copy()\n",
    "\n",
    "        # tworzę ramkę posiadającą jedynie kolumne UserId z unikatowymi UserId\n",
    "        ParticipationBadges_final = ParticipationBadges[['UserId']].drop_duplicates()\n",
    "\n",
    "        # tworze nowa kolumne, w której znajda sie wypisane ParticipationBadges oddzielone'-', danego użytkownika\n",
    "        # (dla każdego użytkownika - po UserId- jest tworzona lista nazw przyznanych mu Badges, jeśli nazwa należy do UserBadges to jest dopisywana do stringa)\n",
    "        ParticipationBadges_final['UserBadges'] = [\"-\".join(\n",
    "            [s for s in ParticipationBadges.loc[ParticipationBadges['UserId'] == t, ['Name']].Name.tolist() if\n",
    "             s in UserBadges]) for t in ParticipationBadges_final['UserId']]\n",
    "\n",
    "        # usuwam wiersze użytkowników, którzy nie posiadają żadnego ParticipationBadges - w tej kolumnie zostąły wpisane puste stringi\n",
    "        nan_value = float(\"NaN\")\n",
    "        ParticipationBadges_final.replace(\"\", nan_value, inplace=True)\n",
    "        ParticipationBadges_final.dropna(subset=['UserBadges'], inplace=True)\n",
    "\n",
    "        # resetuje indexy\n",
    "        ParticipationBadges_final.reset_index(drop =True, inplace = True)\n",
    "        return ParticipationBadges_final"
   ]
  },
  {
   "cell_type": "code",
   "execution_count": 11,
   "metadata": {},
   "outputs": [
    {
     "data": {
      "text/plain": [
       "     UserId                                         UserBadges\n",
       "0         4  Precognitive-Autobiographer-Quorum-Beta-Enthus...\n",
       "1         6                        Precognitive-Autobiographer\n",
       "2         2                                     Autobiographer\n",
       "3         3                              Autobiographer-Quorum\n",
       "4         7                   Autobiographer-Quorum-Convention\n",
       "...     ...                                                ...\n",
       "4241  20617                                     Autobiographer\n",
       "4242  19594                                     Autobiographer\n",
       "4243  20620                                     Autobiographer\n",
       "4244  20625                                     Autobiographer\n",
       "4245  20638                                     Autobiographer\n",
       "\n",
       "[4246 rows x 2 columns]"
      ]
     },
     "execution_count": 11,
     "metadata": {},
     "output_type": "execute_result"
    }
   ],
   "source": [
    "# bPBadges =participation_badges(buddyzm)\n",
    "# bPBadges\n",
    "jPBadges =participation_badges(judaism)\n",
    "iPBadges =participation_badges(islam)\n"
   ]
  },
  {
   "cell_type": "code",
   "execution_count": 90,
   "metadata": {},
   "outputs": [
    {
     "data": {
      "text/plain": [
       "      index      Id PostTypeId AcceptedAnswerId             CreationDate  \\\n",
       "0       107     121          1              NaN  2009-12-28T20:04:39.300   \n",
       "1       133     152          1              NaN  2010-01-01T20:13:39.860   \n",
       "2       135     154          1              NaN  2010-01-01T20:40:08.067   \n",
       "3       209     237          1              NaN  2010-01-14T20:31:53.480   \n",
       "4       223     252          1              253  2010-01-19T20:15:32.420   \n",
       "...     ...     ...        ...              ...                      ...   \n",
       "2098  87415  120395          1              NaN  2021-02-21T20:28:55.793   \n",
       "2099  87541  120532          1              NaN  2021-02-24T20:46:16.657   \n",
       "2100  87575  120572          1              NaN  2021-02-25T20:13:32.183   \n",
       "2101  87600  120598          1              NaN  2021-02-26T20:48:05.083   \n",
       "2102  87609  120607          1              NaN  2021-02-27T20:53:58.547   \n",
       "\n",
       "     Score ViewCount                                               Body  \\\n",
       "0        4      1400  <p>Is there an \"issur\" regarding not putting u...   \n",
       "1       11      1438  <p>Is it better halachikally (according to jew...   \n",
       "2        7       168  <p>Was the miracle the fact that they found th...   \n",
       "3        8       269  <p>In the <a href=\"http://en.wikipedia.org/wik...   \n",
       "4       10      8604  <p>I've heard that red clothing is forbidden f...   \n",
       "...    ...       ...                                                ...   \n",
       "2098     1        63  <p>Someone mentioned to me that the Zohar ment...   \n",
       "2099     1        45  <p>B&quot;H</p>\\n<p>I've been thinking on the ...   \n",
       "2100     1        48  <p>Do any rabbinic sources ( Talmud, geonim, r...   \n",
       "2101     1        43  <p><a href=\"https://www.sefaria.org/Pesachim.9...   \n",
       "2102     3        52  <p>Both Talmudic opinions about the dictation ...   \n",
       "\n",
       "     OwnerUserId LastEditorUserId  ... AnswerCount CommentCount FavoriteCount  \\\n",
       "0             29               -1  ...           2            1             1   \n",
       "1             40              883  ...           3            0           NaN   \n",
       "2             40              170  ...           2            2             1   \n",
       "3              2              170  ...           3            0             1   \n",
       "4             21              883  ...           7            5             2   \n",
       "...          ...              ...  ...         ...          ...           ...   \n",
       "2098       24950              NaN  ...           1            2           NaN   \n",
       "2099       24952              NaN  ...           0            8           NaN   \n",
       "2100       24992              NaN  ...           0            3           NaN   \n",
       "2101       18480            22152  ...           0            1           NaN   \n",
       "2102       15579              NaN  ...           4            1           NaN   \n",
       "\n",
       "     ContentLicense ParentId OwnerDisplayName ClosedDate  \\\n",
       "0      CC BY-SA 3.0      NaN              NaN        NaN   \n",
       "1      CC BY-SA 2.5      NaN              NaN        NaN   \n",
       "2      CC BY-SA 2.5      NaN              NaN        NaN   \n",
       "3      CC BY-SA 2.5      NaN              NaN        NaN   \n",
       "4      CC BY-SA 3.0      NaN              NaN        NaN   \n",
       "...             ...      ...              ...        ...   \n",
       "2098   CC BY-SA 4.0      NaN              NaN        NaN   \n",
       "2099   CC BY-SA 4.0      NaN              NaN        NaN   \n",
       "2100   CC BY-SA 4.0      NaN              NaN        NaN   \n",
       "2101   CC BY-SA 4.0      NaN              NaN        NaN   \n",
       "2102   CC BY-SA 4.0      NaN              NaN        NaN   \n",
       "\n",
       "     LastEditorDisplayName CommunityOwnedDate  \\\n",
       "0                      NaN                NaN   \n",
       "1                      NaN                NaN   \n",
       "2                      NaN                NaN   \n",
       "3                      NaN                NaN   \n",
       "4                      NaN                NaN   \n",
       "...                    ...                ...   \n",
       "2098                   NaN                NaN   \n",
       "2099                   NaN                NaN   \n",
       "2100                   NaN                NaN   \n",
       "2101                   NaN                NaN   \n",
       "2102                   NaN                NaN   \n",
       "\n",
       "                                             clear_body  \n",
       "0     Is there an issur regarding not putting up a m...  \n",
       "1     Is it better halachikally according to jewish ...  \n",
       "2     Was the miracle the fact that they found the o...  \n",
       "3     In the Tachanun prayer its traditional to sit ...  \n",
       "4     Ive heard that red clothing is forbidden for w...  \n",
       "...                                                 ...  \n",
       "2098  Someone mentioned to me that the Zohar mention...  \n",
       "2099  B&quotH Ive been thinking on the subject of Or...  \n",
       "2100  Do any rabbinic sources  Talmud geonim rishoni...  \n",
       "2101  Pesachim 97a calls for a very cruel death by s...  \n",
       "2102  Both Talmudic opinions about the dictation of ...  \n",
       "\n",
       "[2103 rows x 24 columns]"
      ]
     },
     "execution_count": 90,
     "metadata": {},
     "output_type": "execute_result"
    }
   ],
   "source": [
    "#tu mozesz zrobic fora ktory bedzie tworzyl te regexy dla godzin i wgl zrob z tego funkcje\n",
    "jPosts = judaism.Posts.copy()\n",
    "jPosts_questions = jPosts[jPosts.PostTypeId=='1'].copy()\n",
    "jPosts_questions= jPosts_questions[jPosts_questions['CreationDate'].str.match(\"^[0-9]{4}-[0-9]{2}-[0-9]{2}T20\")==True]\n",
    "len(jPosts_questions) #tyle bedzie pytan utworzonych o danej godzinie"
   ]
  },
  {
   "cell_type": "code",
   "execution_count": 91,
   "metadata": {
    "scrolled": true
   },
   "outputs": [
    {
     "data": {
      "text/plain": [
       "           Id PostTypeId AcceptedAnswerId             CreationDate Score  \\\n",
       "37         43          2              NaN  2009-12-10T20:20:25.247    33   \n",
       "134       153          2              NaN  2010-01-01T20:18:42.733     5   \n",
       "192       218          2              NaN  2010-01-07T20:49:45.847     1   \n",
       "210       238          2              NaN  2010-01-14T20:46:07.333     4   \n",
       "211       240          2              NaN  2010-01-14T20:58:42.053     7   \n",
       "...       ...        ...              ...                      ...   ...   \n",
       "87498  120484          2              NaN  2021-02-23T20:39:12.620     4   \n",
       "87540  120531          2              NaN  2021-02-24T20:20:28.847     2   \n",
       "87576  120573          2              NaN  2021-02-25T20:37:34.973     0   \n",
       "87577  120574          2              NaN  2021-02-25T20:56:55.060     2   \n",
       "87608  120606          2              NaN  2021-02-27T20:29:11.487     2   \n",
       "\n",
       "      ViewCount                                               Body  \\\n",
       "37          NaN  <p><b>My Hagbaha Guidelines</b><br></p>\\n\\n<ol...   \n",
       "134         NaN  <p>It is blown as a wakeup call to us. That is...   \n",
       "192         NaN  <p>I think there has to be an aspect of financ...   \n",
       "210         NaN  <p>When Moshe was on Mt Sinai, he received the...   \n",
       "211         NaN  <p>I think the Chida addresses these issues as...   \n",
       "...         ...                                                ...   \n",
       "87498       NaN  <p>פסולת is a defective spelling of the actual...   \n",
       "87540       NaN  <p>B&quot;H</p>\\n<p>I think the gemara there s...   \n",
       "87576       NaN  <p>Keivan shemais naseh chafshi min hamitzvos....   \n",
       "87577       NaN  <p>It is indeed forbidden for a Kohein to die....   \n",
       "87608       NaN  <p>This question is addressed by the <a href=\"...   \n",
       "\n",
       "      OwnerUserId LastEditorUserId             LastEditDate  ... AnswerCount  \\\n",
       "37              7              759  2012-05-24T07:49:18.340  ...         NaN   \n",
       "134            40              NaN                      NaN  ...         NaN   \n",
       "192            42              NaN                      NaN  ...         NaN   \n",
       "210           456              NaN                      NaN  ...         NaN   \n",
       "211           456              NaN                      NaN  ...         NaN   \n",
       "...           ...              ...                      ...  ...         ...   \n",
       "87498        4682              NaN                      NaN  ...         NaN   \n",
       "87540       24952              NaN                      NaN  ...         NaN   \n",
       "87576        4784              NaN                      NaN  ...         NaN   \n",
       "87577       17563              NaN                      NaN  ...         NaN   \n",
       "87608        1739             1739  2021-02-27T20:35:21.437  ...         NaN   \n",
       "\n",
       "      CommentCount FavoriteCount ContentLicense ParentId OwnerDisplayName  \\\n",
       "37               7           NaN   CC BY-SA 3.0        3              NaN   \n",
       "134              0           NaN   CC BY-SA 2.5      111              NaN   \n",
       "192              2           NaN   CC BY-SA 2.5      167              NaN   \n",
       "210              0           NaN   CC BY-SA 2.5      237              NaN   \n",
       "211              3           NaN   CC BY-SA 2.5       73              NaN   \n",
       "...            ...           ...            ...      ...              ...   \n",
       "87498            0           NaN   CC BY-SA 4.0   120423              NaN   \n",
       "87540            0           NaN   CC BY-SA 4.0   120141              NaN   \n",
       "87576            0           NaN   CC BY-SA 4.0   120246              NaN   \n",
       "87577            5           NaN   CC BY-SA 4.0   120246              NaN   \n",
       "87608            0           NaN   CC BY-SA 4.0   120594              NaN   \n",
       "\n",
       "      ClosedDate LastEditorDisplayName CommunityOwnedDate  \\\n",
       "37           NaN                   NaN                NaN   \n",
       "134          NaN                   NaN                NaN   \n",
       "192          NaN                   NaN                NaN   \n",
       "210          NaN                   NaN                NaN   \n",
       "211          NaN                   NaN                NaN   \n",
       "...          ...                   ...                ...   \n",
       "87498        NaN                   NaN                NaN   \n",
       "87540        NaN                   NaN                NaN   \n",
       "87576        NaN                   NaN                NaN   \n",
       "87577        NaN                   NaN                NaN   \n",
       "87608        NaN                   NaN                NaN   \n",
       "\n",
       "                                              clear_body  \n",
       "37     My Hagbaha Guidelines   Make sure there is an ...  \n",
       "134    It is blown as a wakeup call to us That is why...  \n",
       "192    I think there has to be an aspect of financial...  \n",
       "210    When Moshe was on Mt Sinai he received the Tor...  \n",
       "211    I think the Chida addresses these issues as we...  \n",
       "...                                                  ...  \n",
       "87498  פסולת is a defective spelling of the actual wo...  \n",
       "87540  B&quotH I think the gemara there should be tra...  \n",
       "87576  Keivan shemais naseh chafshi min hamitzvos A d...  \n",
       "87577  It is indeed forbidden for a Kohein to die In ...  \n",
       "87608  This question is addressed by the Rema MiPano ...  \n",
       "\n",
       "[3211 rows x 23 columns]"
      ]
     },
     "execution_count": 91,
     "metadata": {},
     "output_type": "execute_result"
    }
   ],
   "source": [
    "jPosts_answers =jPosts[jPosts.PostTypeId=='2'].copy()\n",
    "jPosts_answers[jPosts_answers['CreationDate'].str.match(\"^[0-9]{4}-[0-9]{2}-[0-9]{2}T20\")==True]\n"
   ]
  },
  {
   "cell_type": "markdown",
   "metadata": {},
   "source": [
    "Zrob kolumne od badges w ktorej bedzie string z odznakami(Participation Badges, awarded once) (bez spacji), połącz to po user Id z Posts_questions i Posts_answers (w sumie z dwóch ostatnich możesz zostawić tylko UserId i CreationDate)\n",
    "czyli:\n",
    "    1. Funkcja do Badges, która wyjmie userId i kolumne ze stringiem z odznakami(Participation Badges, awarded once) (bez spacji)\n",
    "    2.Funckja do Posts_questions i Posts_answers - wyjmie UserId i CreationDate.\n",
    "    3.Funckja ktora stworzy słownik - godzina i ilosc postow\n",
    "    4. dalej z tego mozna okreslic:\n",
    "        >jaka godzina jest popularna/najmniej popularna wsrod danej religii ogolnie - wykres, \n",
    "        >jaka godzina najczestsza/najrzadsza wsrod uzytkownikow z dana odznaką -wykres,\n",
    "        >to samo globalnie albo określić jakieś przedziały w stylu 'rano', 'noc', 'pora obiadowa'\n",
    "        "
   ]
  }
 ],
 "metadata": {
  "kernelspec": {
   "display_name": "Python 3",
   "language": "python",
   "name": "python3"
  },
  "language_info": {
   "codemirror_mode": {
    "name": "ipython",
    "version": 3
   },
   "file_extension": ".py",
   "mimetype": "text/x-python",
   "name": "python",
   "nbconvert_exporter": "python",
   "pygments_lexer": "ipython3",
   "version": "3.8.3"
  }
 },
 "nbformat": 4,
 "nbformat_minor": 4
}

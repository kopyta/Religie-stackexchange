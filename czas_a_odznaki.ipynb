{
 "cells": [
  {
   "cell_type": "code",
   "execution_count": 1,
   "metadata": {},
   "outputs": [],
   "source": [
    "from utils import *\n",
    "import numpy as np\n",
    "import pandas as pd\n",
    "\n",
    "pd.set_option(\"display.notebook_repr_html\", False) "
   ]
  },
  {
   "cell_type": "markdown",
   "metadata": {},
   "source": [
    "Zrob kolumne od badges w ktorej bedzie string z odznakami(Participation Badges, awarded once) (bez spacji), połącz to po user Id z Posts_questions i Posts_answers (w sumie z dwóch ostatnich możesz zostawić tylko UserId i CreationDate) czyli:\n",
    "\n",
    "1. Funkcja do Badges, która wyjmie userId i kolumne ze stringiem z odznakami(Participation Badges, awarded once) (bez spacji)\n",
    "2. Funckja do Posts_questions i Posts_answers - wyjmie UserId i CreationDate.\n",
    "3. Funckja ktora stworzy słownik - godzina i ilosc postow\n",
    "4. dalej z tego mozna okreslic:\n",
    "    + jaka godzina jest popularna/najmniej popularna wsrod danej religii ogolnie - wykres, \n",
    "    + jaka godzina najczestsza/najrzadsza wsrod uzytkownikow z dana odznaką -wykres,\n",
    "    + to samo globalnie albo określić jakieś przedziały w stylu 'rano', 'noc', 'pora obiadowa'"
   ]
  },
  {
   "cell_type": "code",
   "execution_count": 2,
   "metadata": {},
   "outputs": [],
   "source": [
    "buddyzm = Religion('../buddyzm')\n",
    "islam = Religion('../islam')\n",
    "judaism = Religion('../judaism')"
   ]
  },
  {
   "cell_type": "markdown",
   "metadata": {},
   "source": [
    "W tym punkcie naszym celem było zbadanie zależności między czasem tworzenia posta lub dodania odpowiedzi, religią, a odznakami użytkownika. W tym celu potrzebowaliśmy wyodrębnić ramkę danych stworzoną z UserId i wszystkimi odznakami danego użytkownika.\n",
    "Zajmuje się tym funkcja `participation_badges`."
   ]
  },
  {
   "cell_type": "code",
   "execution_count": 43,
   "metadata": {},
   "outputs": [],
   "source": [
    "    def participation_badges(religia):\n",
    "        \"\"\"funkcja, która tworzy ramkę danych ParticipationBadges, zawierająca kolumnę UserId i kolumnę UserBadges,\n",
    "        której wiersze to stringi ParticipationBadges danego użytkownika (przyznawanych tylko raz).\n",
    "        ParticipationBadges są określone na podstawie\n",
    "            https://meta.stackexchange.com/questions/67397/what-are-the-badges-i-can-earn-on-each-site-and-what-are-the-exact-criteriafor#188731\"\"\"\n",
    "\n",
    "        UserBadges = ['Autobiographer', 'Commentator', 'Pundit', 'Enthusiast', 'Fanatic', 'Mortarboard', 'Epic',\n",
    "                      'Legendary', 'Precognitive', 'Beta', 'Quorum', 'Convention', 'Talkative', 'Outspoken']\n",
    "        ParticipationBadges = religia.Badges[['UserId','Name']].copy()\n",
    "\n",
    "        # tworzę ramkę posiadającą jedynie kolumne UserId z unikatowymi UserId\n",
    "        ParticipationBadges_final = ParticipationBadges[['UserId']].drop_duplicates()\n",
    "\n",
    "        # tworze nowa kolumne, w której znajda sie wypisane ParticipationBadges oddzielone'-', danego użytkownika\n",
    "        # (dla każdego użytkownika - po UserId- jest tworzona lista nazw przyznanych mu Badges, jeśli nazwa należy do UserBadges to jest dopisywana do stringa)\n",
    "        ParticipationBadges_final['UserBadges'] = [\"-\".join(\n",
    "            [s for s in ParticipationBadges.loc[ParticipationBadges['UserId'] == t, ['Name']].Name.tolist() if\n",
    "             s in UserBadges]) for t in ParticipationBadges_final['UserId']]\n",
    "\n",
    "        # usuwam wiersze użytkowników, którzy nie posiadają żadnego ParticipationBadges - w tej kolumnie zostąły wpisane puste stringi\n",
    "        nan_value = float(\"NaN\")\n",
    "        ParticipationBadges_final.replace(\"\", nan_value, inplace=True)\n",
    "        ParticipationBadges_final.dropna(subset=['UserBadges'], inplace=True)\n",
    "\n",
    "        # resetuje indexy\n",
    "        ParticipationBadges_final.reset_index(drop =True, inplace = True)\n",
    "        return ParticipationBadges_final"
   ]
  },
  {
   "cell_type": "code",
   "execution_count": 4,
   "metadata": {},
   "outputs": [],
   "source": [
    "# bPBadges =participation_badges(buddyzm)\n",
    "# bPBadges\n",
    "jPBadges =participation_badges(judaism)\n",
    "iPBadges =participation_badges(islam)\n"
   ]
  },
  {
   "cell_type": "code",
   "execution_count": 5,
   "metadata": {},
   "outputs": [
    {
     "data": {
      "text/plain": [
       "2103"
      ]
     },
     "execution_count": 5,
     "metadata": {},
     "output_type": "execute_result"
    }
   ],
   "source": [
    "#tu mozesz zrobic fora ktory bedzie tworzyl te regexy dla godzin i wgl zrob z tego funkcje\n",
    "jPosts = judaism.Posts.copy()\n",
    "jPosts_questions = jPosts[jPosts.PostTypeId=='1'].copy()\n",
    "jPosts_questions= jPosts_questions[jPosts_questions['CreationDate'].str.match(\"^[0-9]{4}-[0-9]{2}-[0-9]{2}T20\")==True]\n",
    "len(jPosts_questions) #tyle bedzie pytan utworzonych o danej godzinie"
   ]
  },
  {
   "cell_type": "code",
   "execution_count": 6,
   "metadata": {
    "scrolled": true
   },
   "outputs": [
    {
     "data": {
      "text/plain": [
       "           Id PostTypeId AcceptedAnswerId             CreationDate Score  \\\n",
       "37         43          2              NaN  2009-12-10T20:20:25.247    33   \n",
       "134       153          2              NaN  2010-01-01T20:18:42.733     5   \n",
       "192       218          2              NaN  2010-01-07T20:49:45.847     1   \n",
       "210       238          2              NaN  2010-01-14T20:46:07.333     4   \n",
       "211       240          2              NaN  2010-01-14T20:58:42.053     7   \n",
       "...       ...        ...              ...                      ...   ...   \n",
       "87498  120484          2              NaN  2021-02-23T20:39:12.620     4   \n",
       "87540  120531          2              NaN  2021-02-24T20:20:28.847     2   \n",
       "87576  120573          2              NaN  2021-02-25T20:37:34.973     0   \n",
       "87577  120574          2              NaN  2021-02-25T20:56:55.060     2   \n",
       "87608  120606          2              NaN  2021-02-27T20:29:11.487     2   \n",
       "\n",
       "      ViewCount                                               Body  \\\n",
       "37          NaN  <p><b>My Hagbaha Guidelines</b><br></p>\\n\\n<ol...   \n",
       "134         NaN  <p>It is blown as a wakeup call to us. That is...   \n",
       "192         NaN  <p>I think there has to be an aspect of financ...   \n",
       "210         NaN  <p>When Moshe was on Mt Sinai, he received the...   \n",
       "211         NaN  <p>I think the Chida addresses these issues as...   \n",
       "...         ...                                                ...   \n",
       "87498       NaN  <p>פסולת is a defective spelling of the actual...   \n",
       "87540       NaN  <p>B&quot;H</p>\\n<p>I think the gemara there s...   \n",
       "87576       NaN  <p>Keivan shemais naseh chafshi min hamitzvos....   \n",
       "87577       NaN  <p>It is indeed forbidden for a Kohein to die....   \n",
       "87608       NaN  <p>This question is addressed by the <a href=\"...   \n",
       "\n",
       "      OwnerUserId LastEditorUserId             LastEditDate  ... Tags  \\\n",
       "37              7              759  2012-05-24T07:49:18.340  ...  NaN   \n",
       "134            40              NaN                      NaN  ...  NaN   \n",
       "192            42              NaN                      NaN  ...  NaN   \n",
       "210           456              NaN                      NaN  ...  NaN   \n",
       "211           456              NaN                      NaN  ...  NaN   \n",
       "...           ...              ...                      ...  ...  ...   \n",
       "87498        4682              NaN                      NaN  ...  NaN   \n",
       "87540       24952              NaN                      NaN  ...  NaN   \n",
       "87576        4784              NaN                      NaN  ...  NaN   \n",
       "87577       17563              NaN                      NaN  ...  NaN   \n",
       "87608        1739             1739  2021-02-27T20:35:21.437  ...  NaN   \n",
       "\n",
       "      AnswerCount CommentCount FavoriteCount ContentLicense ParentId  \\\n",
       "37            NaN            7           NaN   CC BY-SA 3.0        3   \n",
       "134           NaN            0           NaN   CC BY-SA 2.5      111   \n",
       "192           NaN            2           NaN   CC BY-SA 2.5      167   \n",
       "210           NaN            0           NaN   CC BY-SA 2.5      237   \n",
       "211           NaN            3           NaN   CC BY-SA 2.5       73   \n",
       "...           ...          ...           ...            ...      ...   \n",
       "87498         NaN            0           NaN   CC BY-SA 4.0   120423   \n",
       "87540         NaN            0           NaN   CC BY-SA 4.0   120141   \n",
       "87576         NaN            0           NaN   CC BY-SA 4.0   120246   \n",
       "87577         NaN            5           NaN   CC BY-SA 4.0   120246   \n",
       "87608         NaN            0           NaN   CC BY-SA 4.0   120594   \n",
       "\n",
       "      OwnerDisplayName ClosedDate LastEditorDisplayName CommunityOwnedDate  \n",
       "37                 NaN        NaN                   NaN                NaN  \n",
       "134                NaN        NaN                   NaN                NaN  \n",
       "192                NaN        NaN                   NaN                NaN  \n",
       "210                NaN        NaN                   NaN                NaN  \n",
       "211                NaN        NaN                   NaN                NaN  \n",
       "...                ...        ...                   ...                ...  \n",
       "87498              NaN        NaN                   NaN                NaN  \n",
       "87540              NaN        NaN                   NaN                NaN  \n",
       "87576              NaN        NaN                   NaN                NaN  \n",
       "87577              NaN        NaN                   NaN                NaN  \n",
       "87608              NaN        NaN                   NaN                NaN  \n",
       "\n",
       "[3211 rows x 22 columns]"
      ]
     },
     "execution_count": 6,
     "metadata": {},
     "output_type": "execute_result"
    }
   ],
   "source": [
    "jPosts_answers =jPosts[jPosts.PostTypeId=='2'].copy()\n",
    "jPosts_answers[jPosts_answers['CreationDate'].str.match(\"^[0-9]{4}-[0-9]{2}-[0-9]{2}T20\")==True]\n"
   ]
  },
  {
   "cell_type": "code",
   "execution_count": 44,
   "metadata": {},
   "outputs": [
    {
     "name": "stdout",
     "output_type": "stream",
     "text": [
      "     UserId                                         UserBadges\n",
      "0         2  Autobiographer-Commentator-Precognitive-Quorum...\n",
      "1         3  Commentator-Mortarboard-Quorum-Precognitive-Co...\n",
      "2         5  Commentator-Precognitive-Quorum-Talkative-Mort...\n",
      "3         7                                        Commentator\n",
      "4         9                    Commentator-Precognitive-Quorum\n",
      "...     ...                                                ...\n",
      "4180  24983                                     Autobiographer\n",
      "4181  24987                                     Autobiographer\n",
      "4182  24993                                     Autobiographer\n",
      "4183  24994                                     Autobiographer\n",
      "4184  24996                                     Autobiographer\n",
      "\n",
      "[4185 rows x 2 columns]\n",
      "Wall time: 1min 40s\n"
     ]
    }
   ],
   "source": [
    "%%time\n",
    "    # bPBadges =participation_badges(buddyzm)\n",
    "# bPBadges\n",
    "jPBadges =participation_badges(judaism)\n",
    "iPBadges =participation_badges(islam)\n",
    "print(jPBadges)"
   ]
  },
  {
   "cell_type": "code",
   "execution_count": 92,
   "metadata": {},
   "outputs": [],
   "source": [
    "    def participation_badges(religia):# ZMIENIONE\n",
    "        \"\"\"funkcja, która tworzy ramkę danych ParticipationBadges, zawierająca kolumnę UserId i kolumnę UserBadges,\n",
    "        której wiersze to stringi ParticipationBadges danego użytkownika (przyznawanych tylko raz).\n",
    "        ParticipationBadges są określone na podstawie\n",
    "            https://meta.stackexchange.com/questions/67397/what-are-the-badges-i-can-earn-on-each-site-and-what-are-the-exact-criteriafor#188731\"\"\"\n",
    "        UserBadges = ['Autobiographer', 'Commentator', 'Pundit', 'Enthusiast', 'Fanatic', 'Mortarboard', 'Epic',\n",
    "                      'Legendary', 'Precognitive', 'Beta', 'Quorum', 'Convention', 'Talkative', 'Outspoken']\n",
    "        ParticipationBadges = religia.Badges[['UserId','Name']].copy()\n",
    "\n",
    "        # tworzę ramkę posiadającą jedynie kolumne UserId z unikatowymi UserId\n",
    "\n",
    "        # tworze nowa kolumne, w której znajda sie wypisane ParticipationBadges oddzielone'-', danego użytkownika\n",
    "        # (dla każdego użytkownika - po UserId- jest tworzona lista nazw przyznanych mu Badges, jeśli nazwa należy do UserBadges to jest dopisywana do stringa)\n",
    "        ParticipationBadges=ParticipationBadges[ParticipationBadges['Name'].isin(UserBadges)]\n",
    "        ParticipationBadges['Name']+='-'\n",
    "        ParticipationBadges=ParticipationBadges.groupby('UserId').sum().reset_index()\n",
    "        ParticipationBadges['UserId'] = ParticipationBadges['UserId'].astype(int) \n",
    "        ParticipationBadges=ParticipationBadges.sort_values('UserId')\n",
    "        \n",
    "        \n",
    "        # resetuje indexy\n",
    "        ParticipationBadges.reset_index()\n",
    "        return ParticipationBadges"
   ]
  },
  {
   "cell_type": "code",
   "execution_count": 93,
   "metadata": {},
   "outputs": [
    {
     "name": "stdout",
     "output_type": "stream",
     "text": [
      "      UserId                                               Name\n",
      "1979       2  Autobiographer-Commentator-Precognitive-Quorum...\n",
      "2927       3  Commentator-Mortarboard-Quorum-Precognitive-Co...\n",
      "3225       5  Commentator-Precognitive-Quorum-Talkative-Mort...\n",
      "3580       7                                       Commentator-\n",
      "3933       9                   Commentator-Precognitive-Quorum-\n",
      "...      ...                                                ...\n",
      "2794   24983                                    Autobiographer-\n",
      "2795   24987                                    Autobiographer-\n",
      "2796   24993                                    Autobiographer-\n",
      "2797   24994                                    Autobiographer-\n",
      "2798   24996                                    Autobiographer-\n",
      "\n",
      "[4185 rows x 2 columns]\n",
      "Wall time: 789 ms\n"
     ]
    }
   ],
   "source": [
    "%%time\n",
    "    # bPBadges =participation_badges(buddyzm)\n",
    "# bPBadges\n",
    "jPBadges =participation_badges(judaism)\n",
    "iPBadges =participation_badges(islam)\n",
    "print(jPBadges)"
   ]
  },
  {
   "cell_type": "code",
   "execution_count": null,
   "metadata": {},
   "outputs": [],
   "source": []
  }
 ],
 "metadata": {
  "kernelspec": {
   "display_name": "Python 3",
   "language": "python",
   "name": "python3"
  },
  "language_info": {
   "codemirror_mode": {
    "name": "ipython",
    "version": 3
   },
   "file_extension": ".py",
   "mimetype": "text/x-python",
   "name": "python",
   "nbconvert_exporter": "python",
   "pygments_lexer": "ipython3",
   "version": "3.9.2"
  }
 },
 "nbformat": 4,
 "nbformat_minor": 4
}

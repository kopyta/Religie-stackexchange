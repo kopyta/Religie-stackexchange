{
 "cells": [
  {
   "cell_type": "code",
   "execution_count": 1,
   "metadata": {},
   "outputs": [],
   "source": [
    "from utils import *\n",
    "\n",
    "pd.set_option(\"display.notebook_repr_html\", False) "
   ]
  },
  {
   "cell_type": "code",
   "execution_count": 2,
   "metadata": {},
   "outputs": [],
   "source": [
    "buddyzm = Religion('../buddyzm')\n",
    "islam = Religion('../islam')\n",
    "judaism = Religion('../judaizm')"
   ]
  },
  {
   "cell_type": "markdown",
   "metadata": {},
   "source": [
    "# \"Użytkownicy forum dotyczącego której z trzech religii: buddyzmu, islamu czy judaizmu okazują się być najmniej uprzejmi?\". \n",
    "\n",
    "Sprawdzimy to na podstawie ich reputacji, ilości głosów przeciwko dla użytkowników oraz ilości postów na każdym forum, które zostały oflagowane jako ofensywne."
   ]
  },
  {
   "cell_type": "markdown",
   "metadata": {},
   "source": [
    "## Reputacja\n",
    "\n",
    "Policzymy tu procentowy udział użytkowników z najniższą reputacją dla każdej religii oraz średnią reputację użytkownika każdego forum."
   ]
  },
  {
   "cell_type": "code",
   "execution_count": 3,
   "metadata": {},
   "outputs": [],
   "source": [
    "def min_reputation(religion):\n",
    "    \"\"\" Ta prosta funkcja wyciąga z ramki Users kolumny Reputation i Id, gdzie Id nie jest równe -1 i sortuje je rosnąco\n",
    "    po Reputation. Następnie tworzona jest kolumna MinReputation, zawierająca najmniejszą wartość Reputation. Wybieramy te\n",
    "    rekordy, dla których Reputation = MinReputation \"\"\"\n",
    "    UserReputation = religion.Users[['Id', 'Reputation']].copy()\n",
    "    UserReputationSorted = UserReputation.sort_values(by = 'Reputation', ascending = True)\n",
    "    UserReputationSorted = UserReputationSorted[UserReputationSorted['Id'] != '-1']\n",
    "    # trzeba stworzyć kolumnę MinReputation i wybrać te rekordy dla których 'Reputation' = 'MinReputation'\n",
    "    UserReputationSorted = UserReputationSorted.assign(MinReputation = (UserReputationSorted.min()['Reputation'])).astype(int)\n",
    "    UserReputationSorted = UserReputationSorted[UserReputationSorted['Reputation'] == UserReputationSorted['MinReputation']]\n",
    "    return UserReputationSorted"
   ]
  },
  {
   "cell_type": "code",
   "execution_count": 4,
   "metadata": {},
   "outputs": [],
   "source": [
    "bUserReputation = min_reputation(buddyzm)\n",
    "iUserReputation = min_reputation(islam)\n",
    "jUserReputation = min_reputation(judaism)"
   ]
  },
  {
   "cell_type": "code",
   "execution_count": 119,
   "metadata": {},
   "outputs": [
    {
     "data": {
      "text/plain": [
       "         Id  Reputation  MinReputation\n",
       "7413  13452           1              1\n",
       "7414  13454           1              1\n",
       "7415  13455           1              1\n",
       "7416  13456           1              1\n",
       "7417  13457           1              1\n",
       "...     ...         ...            ...\n",
       "509     595           1              1\n",
       "4079   9822           1              1\n",
       "121     146           1              1\n",
       "946    2112           1              1\n",
       "820     969           1              1\n",
       "\n",
       "[6433 rows x 3 columns]"
      ]
     },
     "execution_count": 119,
     "metadata": {},
     "output_type": "execute_result"
    }
   ],
   "source": [
    "bUserReputation"
   ]
  },
  {
   "cell_type": "code",
   "execution_count": 114,
   "metadata": {},
   "outputs": [
    {
     "data": {
      "text/plain": [
       "          Id  Reputation  MinReputation\n",
       "17277  29327           1              1\n",
       "17275  29325           1              1\n",
       "17274  29324           1              1\n",
       "17273  29323           1              1\n",
       "17272  29322           1              1\n",
       "...      ...         ...            ...\n",
       "9519   20993           1              1\n",
       "11904  23480           1              1\n",
       "9513   20987           1              1\n",
       "9612   21097           1              1\n",
       "9617   21102           1              1\n",
       "\n",
       "[17220 rows x 3 columns]"
      ]
     },
     "execution_count": 114,
     "metadata": {},
     "output_type": "execute_result"
    }
   ],
   "source": [
    "iUserReputation"
   ]
  },
  {
   "cell_type": "code",
   "execution_count": 115,
   "metadata": {},
   "outputs": [
    {
     "data": {
      "text/plain": [
       "         Id  Reputation  MinReputation\n",
       "9053  16665           1              1\n",
       "9054  16666           1              1\n",
       "9056  16668           1              1\n",
       "9059  16671           1              1\n",
       "9061  16673           1              1\n",
       "...     ...         ...            ...\n",
       "662    1053           1              1\n",
       "2089   3089           1              1\n",
       "5478  12260           1              1\n",
       "2081   3076           1              1\n",
       "5477  12259           1              1\n",
       "\n",
       "[6592 rows x 3 columns]"
      ]
     },
     "execution_count": 115,
     "metadata": {},
     "output_type": "execute_result"
    }
   ],
   "source": [
    "jUserReputation"
   ]
  },
  {
   "cell_type": "code",
   "execution_count": 5,
   "metadata": {},
   "outputs": [],
   "source": [
    "def count_min_reputation_percentage(religion):\n",
    "    \"\"\" Zliczamy ile jest użytkowników z najniższą reputacją dla każdej z religii i sprawdzamy, jak wypada to procentowo\n",
    "    w stosunku do wszystkich użytkowników danej religii \"\"\"\n",
    "    index = min_reputation(religion).index\n",
    "    rowNumber = len(index)\n",
    "\n",
    "    dfUsers = religion.Users\n",
    "    dfUsers = dfUsers[dfUsers['Id'] != '-1']\n",
    "    totalIndex = dfUsers.index\n",
    "    totalRowNumber = len(totalIndex)\n",
    "    \n",
    "    minReputationPercentage = rowNumber/totalRowNumber\n",
    "\n",
    "    return minReputationPercentage"
   ]
  },
  {
   "cell_type": "code",
   "execution_count": 6,
   "metadata": {},
   "outputs": [],
   "source": [
    "bMinReputationPercentage = count_min_reputation_percentage(buddyzm)\n",
    "iMinReputationPercentage = count_min_reputation_percentage(islam)\n",
    "jMinReputationPercentage = count_min_reputation_percentage(judaism)"
   ]
  },
  {
   "cell_type": "code",
   "execution_count": 7,
   "metadata": {},
   "outputs": [
    {
     "data": {
      "text/plain": [
       "0.5174133354781629"
      ]
     },
     "execution_count": 7,
     "metadata": {},
     "output_type": "execute_result"
    }
   ],
   "source": [
    "bMinReputationPercentage"
   ]
  },
  {
   "cell_type": "code",
   "execution_count": 8,
   "metadata": {},
   "outputs": [
    {
     "data": {
      "text/plain": [
       "0.441231593038822"
      ]
     },
     "execution_count": 8,
     "metadata": {},
     "output_type": "execute_result"
    }
   ],
   "source": [
    "jMinReputationPercentage"
   ]
  },
  {
   "cell_type": "code",
   "execution_count": 9,
   "metadata": {},
   "outputs": [
    {
     "data": {
      "text/plain": [
       "0.632065775950668"
      ]
     },
     "execution_count": 9,
     "metadata": {},
     "output_type": "execute_result"
    }
   ],
   "source": [
    "iMinReputationPercentage"
   ]
  },
  {
   "cell_type": "markdown",
   "metadata": {},
   "source": [
    "Zliczyliśmy, jaki procent użytkowników każdego z 3 forów posiada najniższą możliwą reputację. Zobrazujmy to na wykresie. Najpierw jednak stwórzmy odpowiednią ramkę danych."
   ]
  },
  {
   "cell_type": "code",
   "execution_count": 13,
   "metadata": {},
   "outputs": [
    {
     "data": {
      "text/plain": [
       "  Religion  Min Reputation %\n",
       "0  buddyzm         51.741334\n",
       "1  judaizm         44.123159\n",
       "2    islam         63.206578"
      ]
     },
     "execution_count": 13,
     "metadata": {},
     "output_type": "execute_result"
    }
   ],
   "source": [
    "data = [['buddyzm', bMinReputationPercentage * 100], ['judaizm', jMinReputationPercentage * 100], ['islam', iMinReputationPercentage * 100]]\n",
    "df = pd.DataFrame(data, columns = ['Religion', 'Min Reputation %'])\n",
    "df"
   ]
  },
  {
   "cell_type": "code",
   "execution_count": 14,
   "metadata": {},
   "outputs": [
    {
     "data": {
      "image/png": "[encoded data removed]",
      "text/plain": [
       "<Figure size 432x288 with 1 Axes>"
      ]
     },
     "metadata": {
      "needs_background": "light"
     },
     "output_type": "display_data"
    }
   ],
   "source": [
    "import matplotlib.pyplot as plt\n",
    "\n",
    "df.plot(x = \"Religion\", y = \"Min Reputation %\", kind = 'bar')\n",
    "plt.show()"
   ]
  },
  {
   "cell_type": "markdown",
   "metadata": {},
   "source": [
    "Udział procentowy użytkowników z najniższą reputacją jest najwyższy dla **islamu**. Sprawdźmy, jak dla każdej religii wypada średnia reputacja."
   ]
  },
  {
   "cell_type": "code",
   "execution_count": 15,
   "metadata": {},
   "outputs": [],
   "source": [
    "def mean_reputation(religion):\n",
    "    \"\"\" Ta prosta funkcja wyciąga z ramki Users kolumny Reputation i Id, gdzie Id nie jest równe -1.\n",
    "    Następnie wyliczana jest średnia wartość kolumny Reputation \"\"\"\n",
    "    UserReputation = religion.Users[['Id', 'Reputation']].copy()\n",
    "    UserReputation = UserReputation[UserReputation['Id'] != '-1']\n",
    "    meanReputation = UserReputation['Reputation'].astype(float).mean()\n",
    "    return meanReputation"
   ]
  },
  {
   "cell_type": "code",
   "execution_count": 16,
   "metadata": {},
   "outputs": [
    {
     "data": {
      "text/plain": [
       "45.98528116282484"
      ]
     },
     "execution_count": 16,
     "metadata": {},
     "output_type": "execute_result"
    }
   ],
   "source": [
    "mean_reputation(islam)"
   ]
  },
  {
   "cell_type": "code",
   "execution_count": 17,
   "metadata": {},
   "outputs": [
    {
     "data": {
      "text/plain": [
       "90.25335799887397"
      ]
     },
     "execution_count": 17,
     "metadata": {},
     "output_type": "execute_result"
    }
   ],
   "source": [
    "mean_reputation(buddyzm)"
   ]
  },
  {
   "cell_type": "code",
   "execution_count": 18,
   "metadata": {},
   "outputs": [
    {
     "data": {
      "text/plain": [
       "252.98078982597056"
      ]
     },
     "execution_count": 18,
     "metadata": {},
     "output_type": "execute_result"
    }
   ],
   "source": [
    "mean_reputation(judaism)"
   ]
  },
  {
   "cell_type": "code",
   "execution_count": 19,
   "metadata": {},
   "outputs": [
    {
     "data": {
      "text/plain": [
       "  Religion  Mean Reputation\n",
       "0  buddyzm        90.253358\n",
       "1  judaizm       252.980790\n",
       "2    islam        45.985281"
      ]
     },
     "execution_count": 19,
     "metadata": {},
     "output_type": "execute_result"
    }
   ],
   "source": [
    "mean_data = [['buddyzm', mean_reputation(buddyzm)], ['judaizm', mean_reputation(judaism)], ['islam', mean_reputation(islam)]]\n",
    "mean_df = pd.DataFrame(mean_data, columns = ['Religion', 'Mean Reputation'])\n",
    "mean_df"
   ]
  },
  {
   "cell_type": "code",
   "execution_count": 20,
   "metadata": {},
   "outputs": [
    {
     "data": {
      "image/png": "[encoded data removed]",
      "text/plain": [
       "<Figure size 432x288 with 1 Axes>"
      ]
     },
     "metadata": {
      "needs_background": "light"
     },
     "output_type": "display_data"
    }
   ],
   "source": [
    "import matplotlib.pyplot as plt\n",
    "\n",
    "mean_df.plot(x = \"Religion\", y = \"Mean Reputation\", kind = 'bar')\n",
    "plt.show()"
   ]
  },
  {
   "cell_type": "markdown",
   "metadata": {},
   "source": [
    "Po wyliczeniu średniej reputacji dostajemy potwierdzenie - użytkownicy forum nt **islamu** wypadają najgorzej, jeśli chodzi o reputację. Sprawdźmy teraz ilość głosów przeciwko dla użytkowników każdego forum.\n",
    "\n",
    "## DownVotes\n",
    "\n",
    "Policzymy maksymalną liczbę głosów przeciwko jaką dostał użytkownik danego forum oraz średnią dla każdego użytkownika."
   ]
  },
  {
   "cell_type": "code",
   "execution_count": 38,
   "metadata": {},
   "outputs": [],
   "source": [
    "def user_downvotes(religion):\n",
    "    dfUsers = religion.Users.copy()\n",
    "    dfUsers = dfUsers[dfUsers['Id'] != '-1']\n",
    "    dfUsers = dfUsers['DownVotes'].astype(int)\n",
    "    dfUsers = dfUsers.sort_values(ascending = False)\n",
    "    return dfUsers"
   ]
  },
  {
   "cell_type": "code",
   "execution_count": 42,
   "metadata": {},
   "outputs": [],
   "source": [
    "def max_user_downvotes(religion):\n",
    "    return user_downvotes(religion).max()"
   ]
  },
  {
   "cell_type": "code",
   "execution_count": 44,
   "metadata": {},
   "outputs": [],
   "source": [
    "def mean_user_downvotes(religion):\n",
    "    return user_downvotes(religion).mean()"
   ]
  },
  {
   "cell_type": "code",
   "execution_count": 48,
   "metadata": {},
   "outputs": [
    {
     "data": {
      "text/plain": [
       "  Religion  Max DownVotes\n",
       "0  buddyzm           1941\n",
       "1  judaizm           9457\n",
       "2    islam          11103"
      ]
     },
     "execution_count": 48,
     "metadata": {},
     "output_type": "execute_result"
    }
   ],
   "source": [
    "max_downvotes_data = [['buddyzm', max_user_downvotes(buddyzm)], ['judaizm', max_user_downvotes(judaism)], ['islam', max_user_downvotes(islam)]]\n",
    "max_downvotes = pd.DataFrame(max_downvotes_data, columns = ['Religion', 'Max DownVotes'])\n",
    "max_downvotes"
   ]
  },
  {
   "cell_type": "code",
   "execution_count": 51,
   "metadata": {},
   "outputs": [
    {
     "data": {
      "image/png": "[encoded data removed]",
      "text/plain": [
       "<Figure size 432x288 with 1 Axes>"
      ]
     },
     "metadata": {
      "needs_background": "light"
     },
     "output_type": "display_data"
    }
   ],
   "source": [
    "import matplotlib.pyplot as plt\n",
    "\n",
    "max_downvotes.plot(x = \"Religion\", y = \"Max DownVotes\", kind = 'bar')\n",
    "plt.show()"
   ]
  },
  {
   "cell_type": "markdown",
   "metadata": {},
   "source": [
    "Widzimy, że maksymalna ilość głosów przeciwko dla jednego użytkownika jest największa dla **islamu**. Duży kontrast jest między **buddyzmem** a pozostałymi religiami."
   ]
  },
  {
   "cell_type": "code",
   "execution_count": 52,
   "metadata": {},
   "outputs": [
    {
     "data": {
      "text/plain": [
       "  Religion  Mean DownVotes\n",
       "0  buddyzm        0.533982\n",
       "1  judaizm        2.802008\n",
       "2    islam        1.173910"
      ]
     },
     "execution_count": 52,
     "metadata": {},
     "output_type": "execute_result"
    }
   ],
   "source": [
    "mean_downvotes_data = [['buddyzm', mean_user_downvotes(buddyzm)], ['judaizm', mean_user_downvotes(judaism)], ['islam', mean_user_downvotes(islam)]]\n",
    "mean_downvotes = pd.DataFrame(mean_downvotes_data, columns = ['Religion', 'Mean DownVotes'])\n",
    "mean_downvotes"
   ]
  },
  {
   "cell_type": "code",
   "execution_count": 53,
   "metadata": {},
   "outputs": [
    {
     "data": {
      "image/png": "[encoded data removed]",
      "text/plain": [
       "<Figure size 432x288 with 1 Axes>"
      ]
     },
     "metadata": {
      "needs_background": "light"
     },
     "output_type": "display_data"
    }
   ],
   "source": [
    "import matplotlib.pyplot as plt\n",
    "\n",
    "mean_downvotes.plot(x = \"Religion\", y = \"Mean DownVotes\", kind = 'bar')\n",
    "plt.show()"
   ]
  },
  {
   "cell_type": "markdown",
   "metadata": {},
   "source": [
    "Więcej oddaje jednak wyliczenie średniej dla użytkownika danego forum z głosów przeciwko. Tutaj forum judaizmu ponad dwukrotnie przebija islam. Sprawdźmy, jak wygląda sytuacja dla ilości postów oflagowanych jako ofensywne.\n",
    "\n",
    "## Posty oflagowane jako ofensywne"
   ]
  },
  {
   "cell_type": "code",
   "execution_count": 57,
   "metadata": {},
   "outputs": [],
   "source": [
    "def offensive_flags(religion):\n",
    "    dfVotes = religion.Votes.copy()\n",
    "    dfVotes = dfVotes[dfVotes['VoteTypeId'] == '4']\n",
    "    dfVotes = dfVotes['VoteTypeId']\n",
    "    return dfVotes"
   ]
  },
  {
   "cell_type": "code",
   "execution_count": 58,
   "metadata": {},
   "outputs": [
    {
     "data": {
      "text/plain": [
       "5414     4\n",
       "37977    4\n",
       "41880    4\n",
       "43222    4\n",
       "43226    4\n",
       "43229    4\n",
       "49899    4\n",
       "52942    4\n",
       "60912    4\n",
       "61048    4\n",
       "65408    4\n",
       "65411    4\n",
       "67205    4\n",
       "70341    4\n",
       "70349    4\n",
       "84103    4\n",
       "84142    4\n",
       "85577    4\n",
       "Name: VoteTypeId, dtype: object"
      ]
     },
     "execution_count": 58,
     "metadata": {},
     "output_type": "execute_result"
    }
   ],
   "source": [
    "offensive_flags(buddyzm)"
   ]
  },
  {
   "cell_type": "code",
   "execution_count": 155,
   "metadata": {},
   "outputs": [
    {
     "data": {
      "text/plain": [
       "       PostId VoteTypeId\n",
       "8192     2364          4\n",
       "12251    4264          4\n",
       "12474     944          4\n",
       "13331    5553          4\n",
       "14873    5885          4\n",
       "...       ...        ...\n",
       "148198  65164          4\n",
       "148202  65165          4\n",
       "148206  65166          4\n",
       "148723  65385          4\n",
       "148759  65422          4\n",
       "\n",
       "[765 rows x 2 columns]"
      ]
     },
     "execution_count": 155,
     "metadata": {},
     "output_type": "execute_result"
    }
   ],
   "source": [
    "offensive_flags(islam)"
   ]
  },
  {
   "cell_type": "code",
   "execution_count": 156,
   "metadata": {},
   "outputs": [
    {
     "data": {
      "text/plain": [
       "        PostId VoteTypeId\n",
       "7207      3506          4\n",
       "12527     5535          4\n",
       "82879    18860          4\n",
       "96140    25636          4\n",
       "98284    26157          4\n",
       "...        ...        ...\n",
       "431834  117527          4\n",
       "434044  118110          4\n",
       "439874  119550          4\n",
       "441496  119899          4\n",
       "441742  119948          4\n",
       "\n",
       "[294 rows x 2 columns]"
      ]
     },
     "execution_count": 156,
     "metadata": {},
     "output_type": "execute_result"
    }
   ],
   "source": [
    "offensive_flags(judaism)"
   ]
  },
  {
   "cell_type": "code",
   "execution_count": 60,
   "metadata": {},
   "outputs": [],
   "source": [
    "def offensive_flags_post_count(religion):\n",
    "    rowNumber = len(offensive_flags(religion).index)\n",
    "    totalrowNumber = len((religion.Votes).index)\n",
    "    return rowNumber/totalrowNumber"
   ]
  },
  {
   "cell_type": "code",
   "execution_count": 158,
   "metadata": {},
   "outputs": [
    {
     "data": {
      "text/plain": [
       "0.0001882333256645682"
      ]
     },
     "execution_count": 158,
     "metadata": {},
     "output_type": "execute_result"
    }
   ],
   "source": [
    "offensive_flags_post_count(buddyzm)"
   ]
  },
  {
   "cell_type": "code",
   "execution_count": 160,
   "metadata": {},
   "outputs": [
    {
     "data": {
      "text/plain": [
       "0.0006612373234732502"
      ]
     },
     "execution_count": 160,
     "metadata": {},
     "output_type": "execute_result"
    }
   ],
   "source": [
    "offensive_flags_post_count(judaism)"
   ]
  },
  {
   "cell_type": "code",
   "execution_count": 161,
   "metadata": {},
   "outputs": [
    {
     "data": {
      "text/plain": [
       "0.005137607285328605"
      ]
     },
     "execution_count": 161,
     "metadata": {},
     "output_type": "execute_result"
    }
   ],
   "source": [
    "offensive_flags_post_count(islam)"
   ]
  },
  {
   "cell_type": "markdown",
   "metadata": {},
   "source": [
    "Policzyliśmy udział procentowy postów oflagowanych jako ofensywne dla każdego forum. Zobrazujmy to wykresem."
   ]
  },
  {
   "cell_type": "code",
   "execution_count": 61,
   "metadata": {},
   "outputs": [
    {
     "data": {
      "text/plain": [
       "  Religion  Offensive Flags %\n",
       "0  buddyzm           0.018823\n",
       "1  judaizm           0.066124\n",
       "2    islam           0.513761"
      ]
     },
     "execution_count": 61,
     "metadata": {},
     "output_type": "execute_result"
    }
   ],
   "source": [
    "offensive_flags_data = [['buddyzm', offensive_flags_post_count(buddyzm) * 100], ['judaizm', offensive_flags_post_count(judaism) * 100], ['islam', offensive_flags_post_count(islam) * 100]]\n",
    "offensive_flags = pd.DataFrame(offensive_flags_data, columns = ['Religion', 'Offensive Flags %'])\n",
    "offensive_flags"
   ]
  },
  {
   "cell_type": "code",
   "execution_count": 62,
   "metadata": {},
   "outputs": [
    {
     "data": {
      "image/png": "[encoded data removed]",
      "text/plain": [
       "<Figure size 432x288 with 1 Axes>"
      ]
     },
     "metadata": {
      "needs_background": "light"
     },
     "output_type": "display_data"
    }
   ],
   "source": [
    "import matplotlib.pyplot as plt\n",
    "\n",
    "offensive_flags.plot(x = \"Religion\", y = \"Offensive Flags %\", kind = 'bar')\n",
    "plt.show()"
   ]
  },
  {
   "cell_type": "markdown",
   "metadata": {},
   "source": [
    "W tej kategorii znów zdecydowanie przeważa forum dotyczące **islamu**."
   ]
  },
  {
   "cell_type": "markdown",
   "metadata": {},
   "source": [
    "# Podsumujmy wyniki\n",
    "\n",
    "Mieliśmy następujące kategorie oceny tego, jak uprzejmi są użytkownicy danego forum:\n",
    "\n",
    "1. Procent użytkowników z możliwą najniższą reputacją na każdym z 3 forów.\n",
    "2. Średnia reputacja użytkowników.\n",
    "3. Maksymalna liczba głosów przeciwko jakie otrzymał użytkownik danego forum.\n",
    "4. Średnia liczba głosów przeciwko dla użytkownika danego forum.\n",
    "5. Procentowy udział postów oflagowanych jako ofensywne dla każdego z 3 forów.\n",
    "\n",
    "Żeby to zobrazować, w każdej kategorii zwycięzcy (w byciu najmniej uprzejmym) dajemy 1 punkt, reszcie 0.\n",
    "\n",
    "1. **buddyzm** - 0, **judaizm** - 0, **islam** - 1\n",
    "2. **buddyzm** - 0, **judaizm** - 0, **islam** - 1\n",
    "3. **buddyzm** - 0, **judaizm** - 0, **islam** - 1\n",
    "4. **buddyzm** - 0, **judaizm** - 1, **islam** - 0\n",
    "5. **buddyzm** - 0, **judaizm** - 0, **islam** - 1\n",
    "\n",
    "Narysujemy wykres kołowy jako interpretację tych wyników."
   ]
  },
  {
   "cell_type": "code",
   "execution_count": 64,
   "metadata": {},
   "outputs": [
    {
     "data": {
      "image/png": "[encoded data removed]",
      "text/plain": [
       "<Figure size 360x360 with 1 Axes>"
      ]
     },
     "metadata": {},
     "output_type": "display_data"
    }
   ],
   "source": [
    "import matplotlib.pyplot as plt\n",
    "\n",
    "religie = {'Najmniej uprzejmi użytkownicy': [0, 1, 4]}\n",
    "religie_df = pd.DataFrame(religie, columns = ['Najmniej uprzejmi użytkownicy'], index = ['buddyzm', 'judaizm', 'islam'])\n",
    "religie_df.plot.pie(y='Najmniej uprzejmi użytkownicy',figsize=(5, 5),autopct='%1.1f%%', startangle=90)\n",
    "plt.show()"
   ]
  },
  {
   "cell_type": "markdown",
   "metadata": {},
   "source": [
    "Naszym ostatecznym zwycięzcą jest **islam**. Najbardziej uprzejmi użytkownicy są na forum **buddyzmu**. Taki przeciwny do poprzedniego wykres wygląda następująco:"
   ]
  },
  {
   "cell_type": "code",
   "execution_count": 65,
   "metadata": {},
   "outputs": [
    {
     "data": {
      "image/png": "[encoded data removed]",
      "text/plain": [
       "<Figure size 360x360 with 1 Axes>"
      ]
     },
     "metadata": {},
     "output_type": "display_data"
    }
   ],
   "source": [
    "import matplotlib.pyplot as plt\n",
    "\n",
    "religie = {'Najbardziej uprzejmi użytkownicy': [3, 2, 0]}\n",
    "religie_df = pd.DataFrame(religie, columns = ['Najbardziej uprzejmi użytkownicy'], index = ['buddyzm', 'judaizm', 'islam'])\n",
    "religie_df.plot.pie(y='Najbardziej uprzejmi użytkownicy',figsize=(5, 5),autopct='%1.1f%%', startangle=90)\n",
    "plt.show()"
   ]
  }
 ],
 "metadata": {
  "kernelspec": {
   "display_name": "Python 3",
   "language": "python",
   "name": "python3"
  },
  "language_info": {
   "codemirror_mode": {
    "name": "ipython",
    "version": 3
   },
   "file_extension": ".py",
   "mimetype": "text/x-python",
   "name": "python",
   "nbconvert_exporter": "python",
   "pygments_lexer": "ipython3",
   "version": "3.8.3"
  }
 },
 "nbformat": 4,
 "nbformat_minor": 4
}
